{
 "cells": [
  {
   "cell_type": "code",
   "execution_count": 1,
   "id": "9532997a",
   "metadata": {},
   "outputs": [
    {
     "name": "stdout",
     "output_type": "stream",
     "text": [
      "Requirement already satisfied: missingno in c:\\users\\tejes\\anaconda3\\lib\\site-packages (0.5.1)\n",
      "Requirement already satisfied: scipy in c:\\users\\tejes\\anaconda3\\lib\\site-packages (from missingno) (1.7.1)\n",
      "Requirement already satisfied: matplotlib in c:\\users\\tejes\\anaconda3\\lib\\site-packages (from missingno) (3.4.3)\n",
      "Requirement already satisfied: numpy in c:\\users\\tejes\\anaconda3\\lib\\site-packages (from missingno) (1.20.3)\n",
      "Requirement already satisfied: seaborn in c:\\users\\tejes\\anaconda3\\lib\\site-packages (from missingno) (0.11.2)\n",
      "Requirement already satisfied: cycler>=0.10 in c:\\users\\tejes\\anaconda3\\lib\\site-packages (from matplotlib->missingno) (0.10.0)\n",
      "Requirement already satisfied: python-dateutil>=2.7 in c:\\users\\tejes\\anaconda3\\lib\\site-packages (from matplotlib->missingno) (2.8.2)\n",
      "Requirement already satisfied: pyparsing>=2.2.1 in c:\\users\\tejes\\anaconda3\\lib\\site-packages (from matplotlib->missingno) (3.0.4)\n",
      "Requirement already satisfied: kiwisolver>=1.0.1 in c:\\users\\tejes\\anaconda3\\lib\\site-packages (from matplotlib->missingno) (1.3.1)\n",
      "Requirement already satisfied: pillow>=6.2.0 in c:\\users\\tejes\\anaconda3\\lib\\site-packages (from matplotlib->missingno) (8.4.0)\n",
      "Requirement already satisfied: six in c:\\users\\tejes\\anaconda3\\lib\\site-packages (from cycler>=0.10->matplotlib->missingno) (1.16.0)\n",
      "Requirement already satisfied: pandas>=0.23 in c:\\users\\tejes\\anaconda3\\lib\\site-packages (from seaborn->missingno) (1.3.4)\n",
      "Requirement already satisfied: pytz>=2017.3 in c:\\users\\tejes\\anaconda3\\lib\\site-packages (from pandas>=0.23->seaborn->missingno) (2021.3)\n"
     ]
    }
   ],
   "source": [
    "!pip install missingno"
   ]
  },
  {
   "cell_type": "code",
   "execution_count": 2,
   "id": "4561a280",
   "metadata": {},
   "outputs": [],
   "source": [
    "#importing main packages\n",
    "import pandas as pd\n",
    "import numpy as np\n",
    "import matplotlib.pyplot as plt\n",
    "import seaborn as sns\n",
    "import missingno as msno\n",
    "import datetime\n",
    "import warnings\n",
    "warnings.filterwarnings(\"ignore\")"
   ]
  },
  {
   "cell_type": "code",
   "execution_count": 3,
   "id": "ad126a38",
   "metadata": {},
   "outputs": [],
   "source": [
    "data=pd.read_csv(r\"C:\\Users\\Tejes\\Downloads\\city_day.csv\")"
   ]
  },
  {
   "cell_type": "code",
   "execution_count": 4,
   "id": "809ccafb",
   "metadata": {},
   "outputs": [
    {
     "data": {
      "text/html": [
       "<div>\n",
       "<style scoped>\n",
       "    .dataframe tbody tr th:only-of-type {\n",
       "        vertical-align: middle;\n",
       "    }\n",
       "\n",
       "    .dataframe tbody tr th {\n",
       "        vertical-align: top;\n",
       "    }\n",
       "\n",
       "    .dataframe thead th {\n",
       "        text-align: right;\n",
       "    }\n",
       "</style>\n",
       "<table border=\"1\" class=\"dataframe\">\n",
       "  <thead>\n",
       "    <tr style=\"text-align: right;\">\n",
       "      <th></th>\n",
       "      <th>State</th>\n",
       "      <th>City</th>\n",
       "      <th>station</th>\n",
       "      <th>StationName</th>\n",
       "      <th>Status</th>\n",
       "      <th>Date</th>\n",
       "      <th>PM2.5</th>\n",
       "      <th>PM10</th>\n",
       "      <th>NO</th>\n",
       "      <th>NO2</th>\n",
       "      <th>NOx</th>\n",
       "      <th>NH3</th>\n",
       "      <th>CO</th>\n",
       "      <th>SO2</th>\n",
       "      <th>O3</th>\n",
       "      <th>Benzene</th>\n",
       "      <th>Toluene</th>\n",
       "      <th>Xylene</th>\n",
       "      <th>AQI</th>\n",
       "      <th>AQI_Bucket</th>\n",
       "    </tr>\n",
       "  </thead>\n",
       "  <tbody>\n",
       "    <tr>\n",
       "      <th>0</th>\n",
       "      <td>Gujarat</td>\n",
       "      <td>Ahmedabad</td>\n",
       "      <td>GJ001</td>\n",
       "      <td>Maninagar, Ahmedabad - GPCB</td>\n",
       "      <td>Active</td>\n",
       "      <td>01-01-2015</td>\n",
       "      <td>NaN</td>\n",
       "      <td>NaN</td>\n",
       "      <td>0.92</td>\n",
       "      <td>18.22</td>\n",
       "      <td>17.15</td>\n",
       "      <td>NaN</td>\n",
       "      <td>0.92</td>\n",
       "      <td>27.64</td>\n",
       "      <td>133.36</td>\n",
       "      <td>0.00</td>\n",
       "      <td>0.02</td>\n",
       "      <td>0.00</td>\n",
       "      <td>NaN</td>\n",
       "      <td>NaN</td>\n",
       "    </tr>\n",
       "    <tr>\n",
       "      <th>1</th>\n",
       "      <td>Gujarat</td>\n",
       "      <td>Ahmedabad</td>\n",
       "      <td>GJ001</td>\n",
       "      <td>Maninagar, Ahmedabad - GPCB</td>\n",
       "      <td>Active</td>\n",
       "      <td>02-01-2015</td>\n",
       "      <td>NaN</td>\n",
       "      <td>NaN</td>\n",
       "      <td>0.97</td>\n",
       "      <td>15.69</td>\n",
       "      <td>16.46</td>\n",
       "      <td>NaN</td>\n",
       "      <td>0.97</td>\n",
       "      <td>24.55</td>\n",
       "      <td>34.06</td>\n",
       "      <td>3.68</td>\n",
       "      <td>5.50</td>\n",
       "      <td>3.77</td>\n",
       "      <td>NaN</td>\n",
       "      <td>NaN</td>\n",
       "    </tr>\n",
       "    <tr>\n",
       "      <th>2</th>\n",
       "      <td>Gujarat</td>\n",
       "      <td>Ahmedabad</td>\n",
       "      <td>GJ001</td>\n",
       "      <td>Maninagar, Ahmedabad - GPCB</td>\n",
       "      <td>Active</td>\n",
       "      <td>03-01-2015</td>\n",
       "      <td>NaN</td>\n",
       "      <td>NaN</td>\n",
       "      <td>17.40</td>\n",
       "      <td>19.30</td>\n",
       "      <td>29.70</td>\n",
       "      <td>NaN</td>\n",
       "      <td>17.40</td>\n",
       "      <td>29.07</td>\n",
       "      <td>30.70</td>\n",
       "      <td>6.80</td>\n",
       "      <td>16.40</td>\n",
       "      <td>2.25</td>\n",
       "      <td>NaN</td>\n",
       "      <td>NaN</td>\n",
       "    </tr>\n",
       "    <tr>\n",
       "      <th>3</th>\n",
       "      <td>Gujarat</td>\n",
       "      <td>Ahmedabad</td>\n",
       "      <td>GJ001</td>\n",
       "      <td>Maninagar, Ahmedabad - GPCB</td>\n",
       "      <td>Active</td>\n",
       "      <td>04-01-2015</td>\n",
       "      <td>NaN</td>\n",
       "      <td>NaN</td>\n",
       "      <td>1.70</td>\n",
       "      <td>18.48</td>\n",
       "      <td>17.97</td>\n",
       "      <td>NaN</td>\n",
       "      <td>1.70</td>\n",
       "      <td>18.59</td>\n",
       "      <td>36.08</td>\n",
       "      <td>4.43</td>\n",
       "      <td>10.14</td>\n",
       "      <td>1.00</td>\n",
       "      <td>NaN</td>\n",
       "      <td>NaN</td>\n",
       "    </tr>\n",
       "    <tr>\n",
       "      <th>4</th>\n",
       "      <td>Gujarat</td>\n",
       "      <td>Ahmedabad</td>\n",
       "      <td>GJ001</td>\n",
       "      <td>Maninagar, Ahmedabad - GPCB</td>\n",
       "      <td>Active</td>\n",
       "      <td>05-01-2015</td>\n",
       "      <td>NaN</td>\n",
       "      <td>NaN</td>\n",
       "      <td>22.10</td>\n",
       "      <td>21.42</td>\n",
       "      <td>37.76</td>\n",
       "      <td>NaN</td>\n",
       "      <td>22.10</td>\n",
       "      <td>39.33</td>\n",
       "      <td>39.31</td>\n",
       "      <td>7.01</td>\n",
       "      <td>18.89</td>\n",
       "      <td>2.78</td>\n",
       "      <td>NaN</td>\n",
       "      <td>NaN</td>\n",
       "    </tr>\n",
       "  </tbody>\n",
       "</table>\n",
       "</div>"
      ],
      "text/plain": [
       "     State       City station                  StationName  Status  \\\n",
       "0  Gujarat  Ahmedabad   GJ001  Maninagar, Ahmedabad - GPCB  Active   \n",
       "1  Gujarat  Ahmedabad   GJ001  Maninagar, Ahmedabad - GPCB  Active   \n",
       "2  Gujarat  Ahmedabad   GJ001  Maninagar, Ahmedabad - GPCB  Active   \n",
       "3  Gujarat  Ahmedabad   GJ001  Maninagar, Ahmedabad - GPCB  Active   \n",
       "4  Gujarat  Ahmedabad   GJ001  Maninagar, Ahmedabad - GPCB  Active   \n",
       "\n",
       "         Date  PM2.5  PM10     NO    NO2    NOx  NH3     CO    SO2      O3  \\\n",
       "0  01-01-2015    NaN   NaN   0.92  18.22  17.15  NaN   0.92  27.64  133.36   \n",
       "1  02-01-2015    NaN   NaN   0.97  15.69  16.46  NaN   0.97  24.55   34.06   \n",
       "2  03-01-2015    NaN   NaN  17.40  19.30  29.70  NaN  17.40  29.07   30.70   \n",
       "3  04-01-2015    NaN   NaN   1.70  18.48  17.97  NaN   1.70  18.59   36.08   \n",
       "4  05-01-2015    NaN   NaN  22.10  21.42  37.76  NaN  22.10  39.33   39.31   \n",
       "\n",
       "   Benzene  Toluene  Xylene  AQI AQI_Bucket  \n",
       "0     0.00     0.02    0.00  NaN        NaN  \n",
       "1     3.68     5.50    3.77  NaN        NaN  \n",
       "2     6.80    16.40    2.25  NaN        NaN  \n",
       "3     4.43    10.14    1.00  NaN        NaN  \n",
       "4     7.01    18.89    2.78  NaN        NaN  "
      ]
     },
     "execution_count": 4,
     "metadata": {},
     "output_type": "execute_result"
    }
   ],
   "source": [
    "data.head()"
   ]
  },
  {
   "cell_type": "code",
   "execution_count": 5,
   "id": "96d43e13",
   "metadata": {},
   "outputs": [
    {
     "data": {
      "text/plain": [
       "(29531, 20)"
      ]
     },
     "execution_count": 5,
     "metadata": {},
     "output_type": "execute_result"
    }
   ],
   "source": [
    "data.shape"
   ]
  },
  {
   "cell_type": "code",
   "execution_count": 6,
   "id": "2d25fadd",
   "metadata": {},
   "outputs": [
    {
     "data": {
      "text/plain": [
       "Index(['State', 'City', 'station', 'StationName', 'Status', 'Date', 'PM2.5',\n",
       "       'PM10', 'NO', 'NO2', 'NOx', 'NH3', 'CO', 'SO2', 'O3', 'Benzene',\n",
       "       'Toluene', 'Xylene', 'AQI', 'AQI_Bucket'],\n",
       "      dtype='object')"
      ]
     },
     "execution_count": 6,
     "metadata": {},
     "output_type": "execute_result"
    }
   ],
   "source": [
    "data.columns"
   ]
  },
  {
   "cell_type": "raw",
   "id": "2c8139b1",
   "metadata": {},
   "source": [
    "sns.pairplot(data=data,hue='AQI')"
   ]
  },
  {
   "cell_type": "code",
   "execution_count": 7,
   "id": "c3087f7d",
   "metadata": {},
   "outputs": [
    {
     "data": {
      "text/plain": [
       "<AxesSubplot:>"
      ]
     },
     "execution_count": 7,
     "metadata": {},
     "output_type": "execute_result"
    },
    {
     "data": {
      "image/png": "[encoded data removed]",
      "text/plain": [
       "<Figure size 432x288 with 1 Axes>"
      ]
     },
     "metadata": {
      "needs_background": "light"
     },
     "output_type": "display_data"
    }
   ],
   "source": [
    "sns.heatmap(data.isnull(),yticklabels=False,cbar=False,cmap='viridis')"
   ]
  },
  {
   "cell_type": "code",
   "execution_count": 8,
   "id": "6d219e31",
   "metadata": {},
   "outputs": [
    {
     "data": {
      "text/plain": [
       "State              0\n",
       "City               0\n",
       "station            0\n",
       "StationName        0\n",
       "Status           324\n",
       "Date               0\n",
       "PM2.5           4598\n",
       "PM10           11140\n",
       "NO              3582\n",
       "NO2             3585\n",
       "NOx             4185\n",
       "NH3            10328\n",
       "CO              2059\n",
       "SO2             3854\n",
       "O3              4022\n",
       "Benzene         5623\n",
       "Toluene         8041\n",
       "Xylene         18109\n",
       "AQI             4681\n",
       "AQI_Bucket      4681\n",
       "dtype: int64"
      ]
     },
     "execution_count": 8,
     "metadata": {},
     "output_type": "execute_result"
    }
   ],
   "source": [
    "data.isna().sum()"
   ]
  },
  {
   "cell_type": "raw",
   "id": "e7aea16a",
   "metadata": {},
   "source": [
    "% of null values in all features"
   ]
  },
  {
   "cell_type": "code",
   "execution_count": 9,
   "id": "d66960ff",
   "metadata": {},
   "outputs": [
    {
     "data": {
      "text/plain": [
       "Xylene         61.322001\n",
       "PM10           37.723071\n",
       "NH3            34.973418\n",
       "Toluene        27.229014\n",
       "Benzene        19.041008\n",
       "AQI_Bucket     15.851139\n",
       "AQI            15.851139\n",
       "PM2.5          15.570079\n",
       "NOx            14.171549\n",
       "O3             13.619586\n",
       "SO2            13.050692\n",
       "NO2            12.139785\n",
       "NO             12.129626\n",
       "CO              6.972334\n",
       "Status          1.097152\n",
       "City            0.000000\n",
       "Date            0.000000\n",
       "StationName     0.000000\n",
       "station         0.000000\n",
       "State           0.000000\n",
       "dtype: float64"
      ]
     },
     "execution_count": 9,
     "metadata": {},
     "output_type": "execute_result"
    }
   ],
   "source": [
    "null_values_percent=(data.isnull().sum()/data.shape[0]*100).sort_values(ascending=False)\n",
    "null_values_percent"
   ]
  },
  {
   "cell_type": "raw",
   "id": "14ab31f6",
   "metadata": {},
   "source": [
    "missing_data_with_percentage=pd.concat()"
   ]
  },
  {
   "cell_type": "code",
   "execution_count": 10,
   "id": "093a2c3f",
   "metadata": {},
   "outputs": [
    {
     "data": {
      "text/html": [
       "<div>\n",
       "<style scoped>\n",
       "    .dataframe tbody tr th:only-of-type {\n",
       "        vertical-align: middle;\n",
       "    }\n",
       "\n",
       "    .dataframe tbody tr th {\n",
       "        vertical-align: top;\n",
       "    }\n",
       "\n",
       "    .dataframe thead th {\n",
       "        text-align: right;\n",
       "    }\n",
       "</style>\n",
       "<table border=\"1\" class=\"dataframe\">\n",
       "  <thead>\n",
       "    <tr style=\"text-align: right;\">\n",
       "      <th></th>\n",
       "      <th>PM2.5</th>\n",
       "      <th>PM10</th>\n",
       "      <th>NO</th>\n",
       "      <th>NO2</th>\n",
       "      <th>NOx</th>\n",
       "      <th>NH3</th>\n",
       "      <th>CO</th>\n",
       "      <th>SO2</th>\n",
       "      <th>O3</th>\n",
       "      <th>Benzene</th>\n",
       "      <th>Toluene</th>\n",
       "      <th>Xylene</th>\n",
       "      <th>AQI</th>\n",
       "    </tr>\n",
       "  </thead>\n",
       "  <tbody>\n",
       "    <tr>\n",
       "      <th>count</th>\n",
       "      <td>24933.000000</td>\n",
       "      <td>18391.000000</td>\n",
       "      <td>25949.000000</td>\n",
       "      <td>25946.000000</td>\n",
       "      <td>25346.000000</td>\n",
       "      <td>19203.000000</td>\n",
       "      <td>27472.000000</td>\n",
       "      <td>25677.000000</td>\n",
       "      <td>25509.000000</td>\n",
       "      <td>23908.000000</td>\n",
       "      <td>21490.000000</td>\n",
       "      <td>11422.000000</td>\n",
       "      <td>24850.000000</td>\n",
       "    </tr>\n",
       "    <tr>\n",
       "      <th>mean</th>\n",
       "      <td>67.450578</td>\n",
       "      <td>118.127103</td>\n",
       "      <td>17.574730</td>\n",
       "      <td>28.560659</td>\n",
       "      <td>32.309123</td>\n",
       "      <td>23.483476</td>\n",
       "      <td>2.248598</td>\n",
       "      <td>14.531977</td>\n",
       "      <td>34.491430</td>\n",
       "      <td>3.280840</td>\n",
       "      <td>8.700972</td>\n",
       "      <td>3.070128</td>\n",
       "      <td>166.463581</td>\n",
       "    </tr>\n",
       "    <tr>\n",
       "      <th>std</th>\n",
       "      <td>64.661449</td>\n",
       "      <td>90.605110</td>\n",
       "      <td>22.785846</td>\n",
       "      <td>24.474746</td>\n",
       "      <td>31.646011</td>\n",
       "      <td>25.684275</td>\n",
       "      <td>6.962884</td>\n",
       "      <td>18.133775</td>\n",
       "      <td>21.694928</td>\n",
       "      <td>15.811136</td>\n",
       "      <td>19.969164</td>\n",
       "      <td>6.323247</td>\n",
       "      <td>140.696585</td>\n",
       "    </tr>\n",
       "    <tr>\n",
       "      <th>min</th>\n",
       "      <td>0.040000</td>\n",
       "      <td>0.010000</td>\n",
       "      <td>0.020000</td>\n",
       "      <td>0.010000</td>\n",
       "      <td>0.000000</td>\n",
       "      <td>0.010000</td>\n",
       "      <td>0.000000</td>\n",
       "      <td>0.010000</td>\n",
       "      <td>0.010000</td>\n",
       "      <td>0.000000</td>\n",
       "      <td>0.000000</td>\n",
       "      <td>0.000000</td>\n",
       "      <td>13.000000</td>\n",
       "    </tr>\n",
       "    <tr>\n",
       "      <th>25%</th>\n",
       "      <td>28.820000</td>\n",
       "      <td>56.255000</td>\n",
       "      <td>5.630000</td>\n",
       "      <td>11.750000</td>\n",
       "      <td>12.820000</td>\n",
       "      <td>8.580000</td>\n",
       "      <td>0.510000</td>\n",
       "      <td>5.670000</td>\n",
       "      <td>18.860000</td>\n",
       "      <td>0.120000</td>\n",
       "      <td>0.600000</td>\n",
       "      <td>0.140000</td>\n",
       "      <td>81.000000</td>\n",
       "    </tr>\n",
       "    <tr>\n",
       "      <th>50%</th>\n",
       "      <td>48.570000</td>\n",
       "      <td>95.680000</td>\n",
       "      <td>9.890000</td>\n",
       "      <td>21.690000</td>\n",
       "      <td>23.520000</td>\n",
       "      <td>15.850000</td>\n",
       "      <td>0.890000</td>\n",
       "      <td>9.160000</td>\n",
       "      <td>30.840000</td>\n",
       "      <td>1.070000</td>\n",
       "      <td>2.970000</td>\n",
       "      <td>0.980000</td>\n",
       "      <td>118.000000</td>\n",
       "    </tr>\n",
       "    <tr>\n",
       "      <th>75%</th>\n",
       "      <td>80.590000</td>\n",
       "      <td>149.745000</td>\n",
       "      <td>19.950000</td>\n",
       "      <td>37.620000</td>\n",
       "      <td>40.127500</td>\n",
       "      <td>30.020000</td>\n",
       "      <td>1.450000</td>\n",
       "      <td>15.220000</td>\n",
       "      <td>45.570000</td>\n",
       "      <td>3.080000</td>\n",
       "      <td>9.150000</td>\n",
       "      <td>3.350000</td>\n",
       "      <td>208.000000</td>\n",
       "    </tr>\n",
       "    <tr>\n",
       "      <th>max</th>\n",
       "      <td>949.990000</td>\n",
       "      <td>1000.000000</td>\n",
       "      <td>390.680000</td>\n",
       "      <td>362.210000</td>\n",
       "      <td>467.630000</td>\n",
       "      <td>352.890000</td>\n",
       "      <td>175.810000</td>\n",
       "      <td>193.860000</td>\n",
       "      <td>257.730000</td>\n",
       "      <td>455.030000</td>\n",
       "      <td>454.850000</td>\n",
       "      <td>170.370000</td>\n",
       "      <td>2049.000000</td>\n",
       "    </tr>\n",
       "  </tbody>\n",
       "</table>\n",
       "</div>"
      ],
      "text/plain": [
       "              PM2.5          PM10            NO           NO2           NOx  \\\n",
       "count  24933.000000  18391.000000  25949.000000  25946.000000  25346.000000   \n",
       "mean      67.450578    118.127103     17.574730     28.560659     32.309123   \n",
       "std       64.661449     90.605110     22.785846     24.474746     31.646011   \n",
       "min        0.040000      0.010000      0.020000      0.010000      0.000000   \n",
       "25%       28.820000     56.255000      5.630000     11.750000     12.820000   \n",
       "50%       48.570000     95.680000      9.890000     21.690000     23.520000   \n",
       "75%       80.590000    149.745000     19.950000     37.620000     40.127500   \n",
       "max      949.990000   1000.000000    390.680000    362.210000    467.630000   \n",
       "\n",
       "                NH3            CO           SO2            O3       Benzene  \\\n",
       "count  19203.000000  27472.000000  25677.000000  25509.000000  23908.000000   \n",
       "mean      23.483476      2.248598     14.531977     34.491430      3.280840   \n",
       "std       25.684275      6.962884     18.133775     21.694928     15.811136   \n",
       "min        0.010000      0.000000      0.010000      0.010000      0.000000   \n",
       "25%        8.580000      0.510000      5.670000     18.860000      0.120000   \n",
       "50%       15.850000      0.890000      9.160000     30.840000      1.070000   \n",
       "75%       30.020000      1.450000     15.220000     45.570000      3.080000   \n",
       "max      352.890000    175.810000    193.860000    257.730000    455.030000   \n",
       "\n",
       "            Toluene        Xylene           AQI  \n",
       "count  21490.000000  11422.000000  24850.000000  \n",
       "mean       8.700972      3.070128    166.463581  \n",
       "std       19.969164      6.323247    140.696585  \n",
       "min        0.000000      0.000000     13.000000  \n",
       "25%        0.600000      0.140000     81.000000  \n",
       "50%        2.970000      0.980000    118.000000  \n",
       "75%        9.150000      3.350000    208.000000  \n",
       "max      454.850000    170.370000   2049.000000  "
      ]
     },
     "execution_count": 10,
     "metadata": {},
     "output_type": "execute_result"
    }
   ],
   "source": [
    "data.describe()"
   ]
  },
  {
   "cell_type": "code",
   "execution_count": 11,
   "id": "389f997c",
   "metadata": {},
   "outputs": [],
   "source": [
    "#Converting dtype of date column to datetime\n",
    "data['Date'] = pd.to_datetime(data['Date'])"
   ]
  },
  {
   "cell_type": "code",
   "execution_count": 12,
   "id": "d5735362",
   "metadata": {},
   "outputs": [],
   "source": [
    "data['year'] = data['Date'].apply(lambda x:x.year)\n",
    "data['month'] = data['Date'].apply(lambda x:x.month)\n",
    "data['day'] = data['Date'].apply(lambda x:x.day)"
   ]
  },
  {
   "cell_type": "code",
   "execution_count": 13,
   "id": "342a61d9",
   "metadata": {},
   "outputs": [],
   "source": [
    "data=data.drop(['Date','station','StationName','Status'],axis=1)"
   ]
  },
  {
   "cell_type": "code",
   "execution_count": 14,
   "id": "f2288712",
   "metadata": {},
   "outputs": [
    {
     "data": {
      "text/plain": [
       "Index(['State', 'City', 'PM2.5', 'PM10', 'NO', 'NO2', 'NOx', 'NH3', 'CO',\n",
       "       'SO2', 'O3', 'Benzene', 'Toluene', 'Xylene', 'AQI', 'AQI_Bucket',\n",
       "       'year', 'month', 'day'],\n",
       "      dtype='object')"
      ]
     },
     "execution_count": 14,
     "metadata": {},
     "output_type": "execute_result"
    }
   ],
   "source": [
    "data.columns"
   ]
  },
  {
   "cell_type": "code",
   "execution_count": 15,
   "id": "ede1dbf1",
   "metadata": {},
   "outputs": [
    {
     "data": {
      "text/html": [
       "<div>\n",
       "<style scoped>\n",
       "    .dataframe tbody tr th:only-of-type {\n",
       "        vertical-align: middle;\n",
       "    }\n",
       "\n",
       "    .dataframe tbody tr th {\n",
       "        vertical-align: top;\n",
       "    }\n",
       "\n",
       "    .dataframe thead th {\n",
       "        text-align: right;\n",
       "    }\n",
       "</style>\n",
       "<table border=\"1\" class=\"dataframe\">\n",
       "  <thead>\n",
       "    <tr style=\"text-align: right;\">\n",
       "      <th></th>\n",
       "      <th>State</th>\n",
       "      <th>City</th>\n",
       "      <th>PM2.5</th>\n",
       "      <th>PM10</th>\n",
       "      <th>NO</th>\n",
       "      <th>NO2</th>\n",
       "      <th>NOx</th>\n",
       "      <th>NH3</th>\n",
       "      <th>CO</th>\n",
       "      <th>SO2</th>\n",
       "      <th>O3</th>\n",
       "      <th>Benzene</th>\n",
       "      <th>Toluene</th>\n",
       "      <th>Xylene</th>\n",
       "      <th>AQI</th>\n",
       "      <th>AQI_Bucket</th>\n",
       "      <th>year</th>\n",
       "      <th>month</th>\n",
       "      <th>day</th>\n",
       "    </tr>\n",
       "  </thead>\n",
       "  <tbody>\n",
       "    <tr>\n",
       "      <th>0</th>\n",
       "      <td>Gujarat</td>\n",
       "      <td>Ahmedabad</td>\n",
       "      <td>NaN</td>\n",
       "      <td>NaN</td>\n",
       "      <td>0.92</td>\n",
       "      <td>18.22</td>\n",
       "      <td>17.15</td>\n",
       "      <td>NaN</td>\n",
       "      <td>0.92</td>\n",
       "      <td>27.64</td>\n",
       "      <td>133.36</td>\n",
       "      <td>0.00</td>\n",
       "      <td>0.02</td>\n",
       "      <td>0.00</td>\n",
       "      <td>NaN</td>\n",
       "      <td>NaN</td>\n",
       "      <td>2015</td>\n",
       "      <td>1</td>\n",
       "      <td>1</td>\n",
       "    </tr>\n",
       "    <tr>\n",
       "      <th>1</th>\n",
       "      <td>Gujarat</td>\n",
       "      <td>Ahmedabad</td>\n",
       "      <td>NaN</td>\n",
       "      <td>NaN</td>\n",
       "      <td>0.97</td>\n",
       "      <td>15.69</td>\n",
       "      <td>16.46</td>\n",
       "      <td>NaN</td>\n",
       "      <td>0.97</td>\n",
       "      <td>24.55</td>\n",
       "      <td>34.06</td>\n",
       "      <td>3.68</td>\n",
       "      <td>5.50</td>\n",
       "      <td>3.77</td>\n",
       "      <td>NaN</td>\n",
       "      <td>NaN</td>\n",
       "      <td>2015</td>\n",
       "      <td>2</td>\n",
       "      <td>1</td>\n",
       "    </tr>\n",
       "    <tr>\n",
       "      <th>2</th>\n",
       "      <td>Gujarat</td>\n",
       "      <td>Ahmedabad</td>\n",
       "      <td>NaN</td>\n",
       "      <td>NaN</td>\n",
       "      <td>17.40</td>\n",
       "      <td>19.30</td>\n",
       "      <td>29.70</td>\n",
       "      <td>NaN</td>\n",
       "      <td>17.40</td>\n",
       "      <td>29.07</td>\n",
       "      <td>30.70</td>\n",
       "      <td>6.80</td>\n",
       "      <td>16.40</td>\n",
       "      <td>2.25</td>\n",
       "      <td>NaN</td>\n",
       "      <td>NaN</td>\n",
       "      <td>2015</td>\n",
       "      <td>3</td>\n",
       "      <td>1</td>\n",
       "    </tr>\n",
       "    <tr>\n",
       "      <th>3</th>\n",
       "      <td>Gujarat</td>\n",
       "      <td>Ahmedabad</td>\n",
       "      <td>NaN</td>\n",
       "      <td>NaN</td>\n",
       "      <td>1.70</td>\n",
       "      <td>18.48</td>\n",
       "      <td>17.97</td>\n",
       "      <td>NaN</td>\n",
       "      <td>1.70</td>\n",
       "      <td>18.59</td>\n",
       "      <td>36.08</td>\n",
       "      <td>4.43</td>\n",
       "      <td>10.14</td>\n",
       "      <td>1.00</td>\n",
       "      <td>NaN</td>\n",
       "      <td>NaN</td>\n",
       "      <td>2015</td>\n",
       "      <td>4</td>\n",
       "      <td>1</td>\n",
       "    </tr>\n",
       "    <tr>\n",
       "      <th>4</th>\n",
       "      <td>Gujarat</td>\n",
       "      <td>Ahmedabad</td>\n",
       "      <td>NaN</td>\n",
       "      <td>NaN</td>\n",
       "      <td>22.10</td>\n",
       "      <td>21.42</td>\n",
       "      <td>37.76</td>\n",
       "      <td>NaN</td>\n",
       "      <td>22.10</td>\n",
       "      <td>39.33</td>\n",
       "      <td>39.31</td>\n",
       "      <td>7.01</td>\n",
       "      <td>18.89</td>\n",
       "      <td>2.78</td>\n",
       "      <td>NaN</td>\n",
       "      <td>NaN</td>\n",
       "      <td>2015</td>\n",
       "      <td>5</td>\n",
       "      <td>1</td>\n",
       "    </tr>\n",
       "  </tbody>\n",
       "</table>\n",
       "</div>"
      ],
      "text/plain": [
       "     State       City  PM2.5  PM10     NO    NO2    NOx  NH3     CO    SO2  \\\n",
       "0  Gujarat  Ahmedabad    NaN   NaN   0.92  18.22  17.15  NaN   0.92  27.64   \n",
       "1  Gujarat  Ahmedabad    NaN   NaN   0.97  15.69  16.46  NaN   0.97  24.55   \n",
       "2  Gujarat  Ahmedabad    NaN   NaN  17.40  19.30  29.70  NaN  17.40  29.07   \n",
       "3  Gujarat  Ahmedabad    NaN   NaN   1.70  18.48  17.97  NaN   1.70  18.59   \n",
       "4  Gujarat  Ahmedabad    NaN   NaN  22.10  21.42  37.76  NaN  22.10  39.33   \n",
       "\n",
       "       O3  Benzene  Toluene  Xylene  AQI AQI_Bucket  year  month  day  \n",
       "0  133.36     0.00     0.02    0.00  NaN        NaN  2015      1    1  \n",
       "1   34.06     3.68     5.50    3.77  NaN        NaN  2015      2    1  \n",
       "2   30.70     6.80    16.40    2.25  NaN        NaN  2015      3    1  \n",
       "3   36.08     4.43    10.14    1.00  NaN        NaN  2015      4    1  \n",
       "4   39.31     7.01    18.89    2.78  NaN        NaN  2015      5    1  "
      ]
     },
     "execution_count": 15,
     "metadata": {},
     "output_type": "execute_result"
    }
   ],
   "source": [
    "data.head()"
   ]
  },
  {
   "cell_type": "raw",
   "id": "0fc829db",
   "metadata": {},
   "source": [
    "filling nan values present in the pollutants with mean city wise"
   ]
  },
  {
   "cell_type": "code",
   "execution_count": 16,
   "id": "4ac47a14",
   "metadata": {},
   "outputs": [],
   "source": [
    "data.iloc[:,2:14]=data.groupby('City').transform(lambda x:x.fillna(x.mean()))"
   ]
  },
  {
   "cell_type": "code",
   "execution_count": 17,
   "id": "3146aaf6",
   "metadata": {},
   "outputs": [
    {
     "data": {
      "text/html": [
       "<div>\n",
       "<style scoped>\n",
       "    .dataframe tbody tr th:only-of-type {\n",
       "        vertical-align: middle;\n",
       "    }\n",
       "\n",
       "    .dataframe tbody tr th {\n",
       "        vertical-align: top;\n",
       "    }\n",
       "\n",
       "    .dataframe thead th {\n",
       "        text-align: right;\n",
       "    }\n",
       "</style>\n",
       "<table border=\"1\" class=\"dataframe\">\n",
       "  <thead>\n",
       "    <tr style=\"text-align: right;\">\n",
       "      <th></th>\n",
       "      <th>State</th>\n",
       "      <th>City</th>\n",
       "      <th>PM2.5</th>\n",
       "      <th>PM10</th>\n",
       "      <th>NO</th>\n",
       "      <th>NO2</th>\n",
       "      <th>NOx</th>\n",
       "      <th>NH3</th>\n",
       "      <th>CO</th>\n",
       "      <th>SO2</th>\n",
       "      <th>O3</th>\n",
       "      <th>Benzene</th>\n",
       "      <th>Toluene</th>\n",
       "      <th>Xylene</th>\n",
       "      <th>AQI</th>\n",
       "      <th>AQI_Bucket</th>\n",
       "      <th>year</th>\n",
       "      <th>month</th>\n",
       "      <th>day</th>\n",
       "    </tr>\n",
       "  </thead>\n",
       "  <tbody>\n",
       "    <tr>\n",
       "      <th>0</th>\n",
       "      <td>Gujarat</td>\n",
       "      <td>Ahmedabad</td>\n",
       "      <td>67.854497</td>\n",
       "      <td>114.584029</td>\n",
       "      <td>0.92</td>\n",
       "      <td>18.22</td>\n",
       "      <td>17.15</td>\n",
       "      <td>NaN</td>\n",
       "      <td>0.92</td>\n",
       "      <td>27.64</td>\n",
       "      <td>133.36</td>\n",
       "      <td>0.00</td>\n",
       "      <td>0.02</td>\n",
       "      <td>0.00</td>\n",
       "      <td>NaN</td>\n",
       "      <td>NaN</td>\n",
       "      <td>2015</td>\n",
       "      <td>1</td>\n",
       "      <td>1</td>\n",
       "    </tr>\n",
       "    <tr>\n",
       "      <th>1</th>\n",
       "      <td>Gujarat</td>\n",
       "      <td>Ahmedabad</td>\n",
       "      <td>67.854497</td>\n",
       "      <td>114.584029</td>\n",
       "      <td>0.97</td>\n",
       "      <td>15.69</td>\n",
       "      <td>16.46</td>\n",
       "      <td>NaN</td>\n",
       "      <td>0.97</td>\n",
       "      <td>24.55</td>\n",
       "      <td>34.06</td>\n",
       "      <td>3.68</td>\n",
       "      <td>5.50</td>\n",
       "      <td>3.77</td>\n",
       "      <td>NaN</td>\n",
       "      <td>NaN</td>\n",
       "      <td>2015</td>\n",
       "      <td>2</td>\n",
       "      <td>1</td>\n",
       "    </tr>\n",
       "    <tr>\n",
       "      <th>2</th>\n",
       "      <td>Gujarat</td>\n",
       "      <td>Ahmedabad</td>\n",
       "      <td>67.854497</td>\n",
       "      <td>114.584029</td>\n",
       "      <td>17.40</td>\n",
       "      <td>19.30</td>\n",
       "      <td>29.70</td>\n",
       "      <td>NaN</td>\n",
       "      <td>17.40</td>\n",
       "      <td>29.07</td>\n",
       "      <td>30.70</td>\n",
       "      <td>6.80</td>\n",
       "      <td>16.40</td>\n",
       "      <td>2.25</td>\n",
       "      <td>NaN</td>\n",
       "      <td>NaN</td>\n",
       "      <td>2015</td>\n",
       "      <td>3</td>\n",
       "      <td>1</td>\n",
       "    </tr>\n",
       "    <tr>\n",
       "      <th>3</th>\n",
       "      <td>Gujarat</td>\n",
       "      <td>Ahmedabad</td>\n",
       "      <td>67.854497</td>\n",
       "      <td>114.584029</td>\n",
       "      <td>1.70</td>\n",
       "      <td>18.48</td>\n",
       "      <td>17.97</td>\n",
       "      <td>NaN</td>\n",
       "      <td>1.70</td>\n",
       "      <td>18.59</td>\n",
       "      <td>36.08</td>\n",
       "      <td>4.43</td>\n",
       "      <td>10.14</td>\n",
       "      <td>1.00</td>\n",
       "      <td>NaN</td>\n",
       "      <td>NaN</td>\n",
       "      <td>2015</td>\n",
       "      <td>4</td>\n",
       "      <td>1</td>\n",
       "    </tr>\n",
       "    <tr>\n",
       "      <th>4</th>\n",
       "      <td>Gujarat</td>\n",
       "      <td>Ahmedabad</td>\n",
       "      <td>67.854497</td>\n",
       "      <td>114.584029</td>\n",
       "      <td>22.10</td>\n",
       "      <td>21.42</td>\n",
       "      <td>37.76</td>\n",
       "      <td>NaN</td>\n",
       "      <td>22.10</td>\n",
       "      <td>39.33</td>\n",
       "      <td>39.31</td>\n",
       "      <td>7.01</td>\n",
       "      <td>18.89</td>\n",
       "      <td>2.78</td>\n",
       "      <td>NaN</td>\n",
       "      <td>NaN</td>\n",
       "      <td>2015</td>\n",
       "      <td>5</td>\n",
       "      <td>1</td>\n",
       "    </tr>\n",
       "  </tbody>\n",
       "</table>\n",
       "</div>"
      ],
      "text/plain": [
       "     State       City      PM2.5        PM10     NO    NO2    NOx  NH3     CO  \\\n",
       "0  Gujarat  Ahmedabad  67.854497  114.584029   0.92  18.22  17.15  NaN   0.92   \n",
       "1  Gujarat  Ahmedabad  67.854497  114.584029   0.97  15.69  16.46  NaN   0.97   \n",
       "2  Gujarat  Ahmedabad  67.854497  114.584029  17.40  19.30  29.70  NaN  17.40   \n",
       "3  Gujarat  Ahmedabad  67.854497  114.584029   1.70  18.48  17.97  NaN   1.70   \n",
       "4  Gujarat  Ahmedabad  67.854497  114.584029  22.10  21.42  37.76  NaN  22.10   \n",
       "\n",
       "     SO2      O3  Benzene  Toluene  Xylene  AQI AQI_Bucket  year  month  day  \n",
       "0  27.64  133.36     0.00     0.02    0.00  NaN        NaN  2015      1    1  \n",
       "1  24.55   34.06     3.68     5.50    3.77  NaN        NaN  2015      2    1  \n",
       "2  29.07   30.70     6.80    16.40    2.25  NaN        NaN  2015      3    1  \n",
       "3  18.59   36.08     4.43    10.14    1.00  NaN        NaN  2015      4    1  \n",
       "4  39.33   39.31     7.01    18.89    2.78  NaN        NaN  2015      5    1  "
      ]
     },
     "execution_count": 17,
     "metadata": {},
     "output_type": "execute_result"
    }
   ],
   "source": [
    "data.head()"
   ]
  },
  {
   "cell_type": "code",
   "execution_count": 18,
   "id": "a96dc003",
   "metadata": {},
   "outputs": [
    {
     "data": {
      "text/plain": [
       "<AxesSubplot:>"
      ]
     },
     "execution_count": 18,
     "metadata": {},
     "output_type": "execute_result"
    },
    {
     "data": {
      "image/png": "[encoded data removed]",
      "text/plain": [
       "<Figure size 432x288 with 1 Axes>"
      ]
     },
     "metadata": {
      "needs_background": "light"
     },
     "output_type": "display_data"
    }
   ],
   "source": [
    "sns.heatmap(data.isnull(),yticklabels=False,cbar=False,cmap='viridis')"
   ]
  },
  {
   "cell_type": "code",
   "execution_count": 19,
   "id": "9a38ce56",
   "metadata": {},
   "outputs": [],
   "source": [
    "data.loc[:,2:14]=data.fillna(data.mean())"
   ]
  },
  {
   "cell_type": "code",
   "execution_count": 20,
   "id": "6f4e568f",
   "metadata": {},
   "outputs": [
    {
     "data": {
      "text/html": [
       "<div>\n",
       "<style scoped>\n",
       "    .dataframe tbody tr th:only-of-type {\n",
       "        vertical-align: middle;\n",
       "    }\n",
       "\n",
       "    .dataframe tbody tr th {\n",
       "        vertical-align: top;\n",
       "    }\n",
       "\n",
       "    .dataframe thead th {\n",
       "        text-align: right;\n",
       "    }\n",
       "</style>\n",
       "<table border=\"1\" class=\"dataframe\">\n",
       "  <thead>\n",
       "    <tr style=\"text-align: right;\">\n",
       "      <th></th>\n",
       "      <th>State</th>\n",
       "      <th>City</th>\n",
       "      <th>PM2.5</th>\n",
       "      <th>PM10</th>\n",
       "      <th>NO</th>\n",
       "      <th>NO2</th>\n",
       "      <th>NOx</th>\n",
       "      <th>NH3</th>\n",
       "      <th>CO</th>\n",
       "      <th>SO2</th>\n",
       "      <th>O3</th>\n",
       "      <th>Benzene</th>\n",
       "      <th>Toluene</th>\n",
       "      <th>Xylene</th>\n",
       "      <th>AQI</th>\n",
       "      <th>AQI_Bucket</th>\n",
       "      <th>year</th>\n",
       "      <th>month</th>\n",
       "      <th>day</th>\n",
       "    </tr>\n",
       "  </thead>\n",
       "  <tbody>\n",
       "    <tr>\n",
       "      <th>0</th>\n",
       "      <td>Gujarat</td>\n",
       "      <td>Ahmedabad</td>\n",
       "      <td>67.854497</td>\n",
       "      <td>114.584029</td>\n",
       "      <td>0.92</td>\n",
       "      <td>18.22</td>\n",
       "      <td>17.15</td>\n",
       "      <td>23.024137</td>\n",
       "      <td>0.92</td>\n",
       "      <td>27.64</td>\n",
       "      <td>133.36</td>\n",
       "      <td>0.00</td>\n",
       "      <td>0.02</td>\n",
       "      <td>0.00</td>\n",
       "      <td>NaN</td>\n",
       "      <td>NaN</td>\n",
       "      <td>2015</td>\n",
       "      <td>1</td>\n",
       "      <td>1</td>\n",
       "    </tr>\n",
       "    <tr>\n",
       "      <th>1</th>\n",
       "      <td>Gujarat</td>\n",
       "      <td>Ahmedabad</td>\n",
       "      <td>67.854497</td>\n",
       "      <td>114.584029</td>\n",
       "      <td>0.97</td>\n",
       "      <td>15.69</td>\n",
       "      <td>16.46</td>\n",
       "      <td>23.024137</td>\n",
       "      <td>0.97</td>\n",
       "      <td>24.55</td>\n",
       "      <td>34.06</td>\n",
       "      <td>3.68</td>\n",
       "      <td>5.50</td>\n",
       "      <td>3.77</td>\n",
       "      <td>NaN</td>\n",
       "      <td>NaN</td>\n",
       "      <td>2015</td>\n",
       "      <td>2</td>\n",
       "      <td>1</td>\n",
       "    </tr>\n",
       "    <tr>\n",
       "      <th>2</th>\n",
       "      <td>Gujarat</td>\n",
       "      <td>Ahmedabad</td>\n",
       "      <td>67.854497</td>\n",
       "      <td>114.584029</td>\n",
       "      <td>17.40</td>\n",
       "      <td>19.30</td>\n",
       "      <td>29.70</td>\n",
       "      <td>23.024137</td>\n",
       "      <td>17.40</td>\n",
       "      <td>29.07</td>\n",
       "      <td>30.70</td>\n",
       "      <td>6.80</td>\n",
       "      <td>16.40</td>\n",
       "      <td>2.25</td>\n",
       "      <td>NaN</td>\n",
       "      <td>NaN</td>\n",
       "      <td>2015</td>\n",
       "      <td>3</td>\n",
       "      <td>1</td>\n",
       "    </tr>\n",
       "    <tr>\n",
       "      <th>3</th>\n",
       "      <td>Gujarat</td>\n",
       "      <td>Ahmedabad</td>\n",
       "      <td>67.854497</td>\n",
       "      <td>114.584029</td>\n",
       "      <td>1.70</td>\n",
       "      <td>18.48</td>\n",
       "      <td>17.97</td>\n",
       "      <td>23.024137</td>\n",
       "      <td>1.70</td>\n",
       "      <td>18.59</td>\n",
       "      <td>36.08</td>\n",
       "      <td>4.43</td>\n",
       "      <td>10.14</td>\n",
       "      <td>1.00</td>\n",
       "      <td>NaN</td>\n",
       "      <td>NaN</td>\n",
       "      <td>2015</td>\n",
       "      <td>4</td>\n",
       "      <td>1</td>\n",
       "    </tr>\n",
       "    <tr>\n",
       "      <th>4</th>\n",
       "      <td>Gujarat</td>\n",
       "      <td>Ahmedabad</td>\n",
       "      <td>67.854497</td>\n",
       "      <td>114.584029</td>\n",
       "      <td>22.10</td>\n",
       "      <td>21.42</td>\n",
       "      <td>37.76</td>\n",
       "      <td>23.024137</td>\n",
       "      <td>22.10</td>\n",
       "      <td>39.33</td>\n",
       "      <td>39.31</td>\n",
       "      <td>7.01</td>\n",
       "      <td>18.89</td>\n",
       "      <td>2.78</td>\n",
       "      <td>NaN</td>\n",
       "      <td>NaN</td>\n",
       "      <td>2015</td>\n",
       "      <td>5</td>\n",
       "      <td>1</td>\n",
       "    </tr>\n",
       "  </tbody>\n",
       "</table>\n",
       "</div>"
      ],
      "text/plain": [
       "     State       City      PM2.5        PM10     NO    NO2    NOx        NH3  \\\n",
       "0  Gujarat  Ahmedabad  67.854497  114.584029   0.92  18.22  17.15  23.024137   \n",
       "1  Gujarat  Ahmedabad  67.854497  114.584029   0.97  15.69  16.46  23.024137   \n",
       "2  Gujarat  Ahmedabad  67.854497  114.584029  17.40  19.30  29.70  23.024137   \n",
       "3  Gujarat  Ahmedabad  67.854497  114.584029   1.70  18.48  17.97  23.024137   \n",
       "4  Gujarat  Ahmedabad  67.854497  114.584029  22.10  21.42  37.76  23.024137   \n",
       "\n",
       "      CO    SO2      O3  Benzene  Toluene  Xylene  AQI AQI_Bucket  year  \\\n",
       "0   0.92  27.64  133.36     0.00     0.02    0.00  NaN        NaN  2015   \n",
       "1   0.97  24.55   34.06     3.68     5.50    3.77  NaN        NaN  2015   \n",
       "2  17.40  29.07   30.70     6.80    16.40    2.25  NaN        NaN  2015   \n",
       "3   1.70  18.59   36.08     4.43    10.14    1.00  NaN        NaN  2015   \n",
       "4  22.10  39.33   39.31     7.01    18.89    2.78  NaN        NaN  2015   \n",
       "\n",
       "   month  day  \n",
       "0      1    1  \n",
       "1      2    1  \n",
       "2      3    1  \n",
       "3      4    1  \n",
       "4      5    1  "
      ]
     },
     "execution_count": 20,
     "metadata": {},
     "output_type": "execute_result"
    }
   ],
   "source": [
    "data.head()"
   ]
  },
  {
   "cell_type": "code",
   "execution_count": 21,
   "id": "f6585703",
   "metadata": {},
   "outputs": [
    {
     "data": {
      "text/html": [
       "<div>\n",
       "<style scoped>\n",
       "    .dataframe tbody tr th:only-of-type {\n",
       "        vertical-align: middle;\n",
       "    }\n",
       "\n",
       "    .dataframe tbody tr th {\n",
       "        vertical-align: top;\n",
       "    }\n",
       "\n",
       "    .dataframe thead th {\n",
       "        text-align: right;\n",
       "    }\n",
       "</style>\n",
       "<table border=\"1\" class=\"dataframe\">\n",
       "  <thead>\n",
       "    <tr style=\"text-align: right;\">\n",
       "      <th></th>\n",
       "      <th>State</th>\n",
       "      <th>City</th>\n",
       "      <th>PM2.5</th>\n",
       "      <th>PM10</th>\n",
       "      <th>NO</th>\n",
       "      <th>NO2</th>\n",
       "      <th>NOx</th>\n",
       "      <th>NH3</th>\n",
       "      <th>CO</th>\n",
       "      <th>SO2</th>\n",
       "      <th>O3</th>\n",
       "      <th>Benzene</th>\n",
       "      <th>Toluene</th>\n",
       "      <th>Xylene</th>\n",
       "      <th>AQI</th>\n",
       "      <th>AQI_Bucket</th>\n",
       "      <th>year</th>\n",
       "      <th>month</th>\n",
       "      <th>day</th>\n",
       "    </tr>\n",
       "  </thead>\n",
       "  <tbody>\n",
       "    <tr>\n",
       "      <th>29526</th>\n",
       "      <td>Andhra Pradesh</td>\n",
       "      <td>Visakhapatnam</td>\n",
       "      <td>15.02</td>\n",
       "      <td>50.94</td>\n",
       "      <td>7.68</td>\n",
       "      <td>25.06</td>\n",
       "      <td>19.54</td>\n",
       "      <td>12.47</td>\n",
       "      <td>0.47</td>\n",
       "      <td>8.55</td>\n",
       "      <td>23.30</td>\n",
       "      <td>2.240000</td>\n",
       "      <td>12.070000</td>\n",
       "      <td>0.730000</td>\n",
       "      <td>41.0</td>\n",
       "      <td>Good</td>\n",
       "      <td>2020</td>\n",
       "      <td>6</td>\n",
       "      <td>27</td>\n",
       "    </tr>\n",
       "    <tr>\n",
       "      <th>29527</th>\n",
       "      <td>Andhra Pradesh</td>\n",
       "      <td>Visakhapatnam</td>\n",
       "      <td>24.38</td>\n",
       "      <td>74.09</td>\n",
       "      <td>3.42</td>\n",
       "      <td>26.06</td>\n",
       "      <td>16.53</td>\n",
       "      <td>11.99</td>\n",
       "      <td>0.52</td>\n",
       "      <td>12.72</td>\n",
       "      <td>30.14</td>\n",
       "      <td>0.740000</td>\n",
       "      <td>2.210000</td>\n",
       "      <td>0.380000</td>\n",
       "      <td>70.0</td>\n",
       "      <td>Satisfactory</td>\n",
       "      <td>2020</td>\n",
       "      <td>6</td>\n",
       "      <td>28</td>\n",
       "    </tr>\n",
       "    <tr>\n",
       "      <th>29528</th>\n",
       "      <td>Andhra Pradesh</td>\n",
       "      <td>Visakhapatnam</td>\n",
       "      <td>22.91</td>\n",
       "      <td>65.73</td>\n",
       "      <td>3.45</td>\n",
       "      <td>29.53</td>\n",
       "      <td>18.33</td>\n",
       "      <td>10.71</td>\n",
       "      <td>0.48</td>\n",
       "      <td>8.42</td>\n",
       "      <td>30.96</td>\n",
       "      <td>0.010000</td>\n",
       "      <td>0.010000</td>\n",
       "      <td>0.000000</td>\n",
       "      <td>68.0</td>\n",
       "      <td>Satisfactory</td>\n",
       "      <td>2020</td>\n",
       "      <td>6</td>\n",
       "      <td>29</td>\n",
       "    </tr>\n",
       "    <tr>\n",
       "      <th>29529</th>\n",
       "      <td>Andhra Pradesh</td>\n",
       "      <td>Visakhapatnam</td>\n",
       "      <td>16.64</td>\n",
       "      <td>49.97</td>\n",
       "      <td>4.05</td>\n",
       "      <td>29.26</td>\n",
       "      <td>18.80</td>\n",
       "      <td>10.03</td>\n",
       "      <td>0.52</td>\n",
       "      <td>9.84</td>\n",
       "      <td>28.30</td>\n",
       "      <td>0.000000</td>\n",
       "      <td>0.000000</td>\n",
       "      <td>0.000000</td>\n",
       "      <td>54.0</td>\n",
       "      <td>Satisfactory</td>\n",
       "      <td>2020</td>\n",
       "      <td>6</td>\n",
       "      <td>30</td>\n",
       "    </tr>\n",
       "    <tr>\n",
       "      <th>29530</th>\n",
       "      <td>Andhra Pradesh</td>\n",
       "      <td>Visakhapatnam</td>\n",
       "      <td>15.00</td>\n",
       "      <td>66.00</td>\n",
       "      <td>0.40</td>\n",
       "      <td>26.85</td>\n",
       "      <td>14.05</td>\n",
       "      <td>5.20</td>\n",
       "      <td>0.59</td>\n",
       "      <td>2.10</td>\n",
       "      <td>17.05</td>\n",
       "      <td>3.891348</td>\n",
       "      <td>8.350983</td>\n",
       "      <td>2.790456</td>\n",
       "      <td>50.0</td>\n",
       "      <td>Good</td>\n",
       "      <td>2020</td>\n",
       "      <td>1</td>\n",
       "      <td>7</td>\n",
       "    </tr>\n",
       "  </tbody>\n",
       "</table>\n",
       "</div>"
      ],
      "text/plain": [
       "                State           City  PM2.5   PM10    NO    NO2    NOx    NH3  \\\n",
       "29526  Andhra Pradesh  Visakhapatnam  15.02  50.94  7.68  25.06  19.54  12.47   \n",
       "29527  Andhra Pradesh  Visakhapatnam  24.38  74.09  3.42  26.06  16.53  11.99   \n",
       "29528  Andhra Pradesh  Visakhapatnam  22.91  65.73  3.45  29.53  18.33  10.71   \n",
       "29529  Andhra Pradesh  Visakhapatnam  16.64  49.97  4.05  29.26  18.80  10.03   \n",
       "29530  Andhra Pradesh  Visakhapatnam  15.00  66.00  0.40  26.85  14.05   5.20   \n",
       "\n",
       "         CO    SO2     O3   Benzene    Toluene    Xylene   AQI    AQI_Bucket  \\\n",
       "29526  0.47   8.55  23.30  2.240000  12.070000  0.730000  41.0          Good   \n",
       "29527  0.52  12.72  30.14  0.740000   2.210000  0.380000  70.0  Satisfactory   \n",
       "29528  0.48   8.42  30.96  0.010000   0.010000  0.000000  68.0  Satisfactory   \n",
       "29529  0.52   9.84  28.30  0.000000   0.000000  0.000000  54.0  Satisfactory   \n",
       "29530  0.59   2.10  17.05  3.891348   8.350983  2.790456  50.0          Good   \n",
       "\n",
       "       year  month  day  \n",
       "29526  2020      6   27  \n",
       "29527  2020      6   28  \n",
       "29528  2020      6   29  \n",
       "29529  2020      6   30  \n",
       "29530  2020      1    7  "
      ]
     },
     "execution_count": 21,
     "metadata": {},
     "output_type": "execute_result"
    }
   ],
   "source": [
    "data.tail()"
   ]
  },
  {
   "cell_type": "code",
   "execution_count": 22,
   "id": "719968bf",
   "metadata": {},
   "outputs": [
    {
     "data": {
      "text/plain": [
       "<AxesSubplot:>"
      ]
     },
     "execution_count": 22,
     "metadata": {},
     "output_type": "execute_result"
    },
    {
     "data": {
      "image/png": "[encoded data removed]",
      "text/plain": [
       "<Figure size 432x288 with 1 Axes>"
      ]
     },
     "metadata": {
      "needs_background": "light"
     },
     "output_type": "display_data"
    }
   ],
   "source": [
    "sns.heatmap(data.isnull(),yticklabels=False,cbar=False,cmap='viridis')"
   ]
  },
  {
   "cell_type": "raw",
   "id": "6c6fa78d",
   "metadata": {},
   "source": [
    "The AQI Calculation uses 7 measures:PM2.5,PM10,SO2,NOx,NH3,CO and O3"
   ]
  },
  {
   "cell_type": "code",
   "execution_count": 23,
   "id": "0d8e59f9",
   "metadata": {},
   "outputs": [
    {
     "data": {
      "text/html": [
       "<div>\n",
       "<style scoped>\n",
       "    .dataframe tbody tr th:only-of-type {\n",
       "        vertical-align: middle;\n",
       "    }\n",
       "\n",
       "    .dataframe tbody tr th {\n",
       "        vertical-align: top;\n",
       "    }\n",
       "\n",
       "    .dataframe thead th {\n",
       "        text-align: right;\n",
       "    }\n",
       "</style>\n",
       "<table border=\"1\" class=\"dataframe\">\n",
       "  <thead>\n",
       "    <tr style=\"text-align: right;\">\n",
       "      <th></th>\n",
       "      <th>PM10</th>\n",
       "      <th>PM10_subindex</th>\n",
       "    </tr>\n",
       "  </thead>\n",
       "  <tbody>\n",
       "    <tr>\n",
       "      <th>0</th>\n",
       "      <td>114.584029</td>\n",
       "      <td>109.333333</td>\n",
       "    </tr>\n",
       "    <tr>\n",
       "      <th>1</th>\n",
       "      <td>114.584029</td>\n",
       "      <td>109.333333</td>\n",
       "    </tr>\n",
       "    <tr>\n",
       "      <th>2</th>\n",
       "      <td>114.584029</td>\n",
       "      <td>109.333333</td>\n",
       "    </tr>\n",
       "    <tr>\n",
       "      <th>3</th>\n",
       "      <td>114.584029</td>\n",
       "      <td>109.333333</td>\n",
       "    </tr>\n",
       "    <tr>\n",
       "      <th>4</th>\n",
       "      <td>114.584029</td>\n",
       "      <td>109.333333</td>\n",
       "    </tr>\n",
       "  </tbody>\n",
       "</table>\n",
       "</div>"
      ],
      "text/plain": [
       "         PM10  PM10_subindex\n",
       "0  114.584029     109.333333\n",
       "1  114.584029     109.333333\n",
       "2  114.584029     109.333333\n",
       "3  114.584029     109.333333\n",
       "4  114.584029     109.333333"
      ]
     },
     "execution_count": 23,
     "metadata": {},
     "output_type": "execute_result"
    }
   ],
   "source": [
    "#PM10 sub_index calculation\n",
    "def get_PM10_subindex(x):\n",
    "    if x<=50:\n",
    "        return x\n",
    "    elif x>50 and x<=100:\n",
    "        return x\n",
    "    elif x>100 and x<=250:\n",
    "        return 100+(x-100)*100/150\n",
    "    elif x>250 and x<=350:\n",
    "        return 200+(x-250)\n",
    "    elif x>350 and x<=430:\n",
    "        return 300+(x-350)*100/80\n",
    "    elif x>430:\n",
    "        return 400+(x-430)*100/80\n",
    "    else:\n",
    "        return 0\n",
    "data['PM10_subindex']=data['PM10'].astype(int).apply(lambda x:get_PM10_subindex(x))\n",
    "d1=data[['PM10','PM10_subindex']]\n",
    "d1.head()\n",
    "    \n",
    "    "
   ]
  },
  {
   "cell_type": "code",
   "execution_count": 24,
   "id": "8f82047f",
   "metadata": {},
   "outputs": [],
   "source": [
    "def get_PM25_subindex(x):\n",
    "    if x<=30:\n",
    "        return x*50/30\n",
    "    elif x>30 and x<=60:\n",
    "        return 50+(x-30)*50/30\n",
    "    elif x>60 and x<=90:\n",
    "        return 100+(x-60)*100/30\n",
    "    elif x>90 and x<=120:\n",
    "        return 200+(x-90)*100/30\n",
    "    elif x>120 and x<=250:\n",
    "        return 300+(x-120)*100/130\n",
    "    elif x>250:\n",
    "        return 400+(x-250)*100/130\n",
    "    else:\n",
    "        return 0\n",
    "data['PM2.5_subindex']=data['PM2.5'].astype(int).apply(lambda x:get_PM25_subindex(x))\n",
    "    "
   ]
  },
  {
   "cell_type": "code",
   "execution_count": 25,
   "id": "a1f6d2be",
   "metadata": {},
   "outputs": [],
   "source": [
    "def get_SO2_subindex(x):\n",
    "    if x<=40:\n",
    "        return x*50/40\n",
    "    elif x>40 and x<=80:\n",
    "        return 50+(x-40)*50/40\n",
    "    elif x>80 and x<=380:\n",
    "        return 100+(x-80)*100/300\n",
    "    elif x>380 and x<=800:\n",
    "        return 200+(x-380)*100/420\n",
    "    elif x>800 and x<=1600:\n",
    "        return 300+(x-800)*100/800\n",
    "    elif x>1600:\n",
    "        return 400+(x-1600)*100/800\n",
    "    else:\n",
    "        return 0\n",
    "data['SO2_subindex']=data['SO2'].astype(int).apply(lambda x:get_SO2_subindex(x))"
   ]
  },
  {
   "cell_type": "code",
   "execution_count": 26,
   "id": "6ac1ef80",
   "metadata": {},
   "outputs": [],
   "source": [
    "def get_NOx_subindex(x):\n",
    "    if x<=40:\n",
    "        return x*50/40\n",
    "    elif x>40 and x<=80:\n",
    "        return 50+(x-40)*50/40\n",
    "    elif x>80 and x<=180:\n",
    "        return 100+(x-80)*100/100\n",
    "    elif x>180 and x<=280:\n",
    "        return 200+(x-180)*100/100\n",
    "    elif x>280 and x<=400:\n",
    "        return 300+(x-280)*100/120\n",
    "    elif x>400:\n",
    "        return 400+(x-400)*100/120\n",
    "    else:\n",
    "        return 0\n",
    "data['NOx_subindex']=data['NOx'].astype(int).apply(lambda x:get_NOx_subindex(x))"
   ]
  },
  {
   "cell_type": "code",
   "execution_count": 27,
   "id": "e97a3361",
   "metadata": {},
   "outputs": [],
   "source": [
    "def get_NH3_subindex(x):\n",
    "    if x<=200:\n",
    "        return x*50/200\n",
    "    elif x>200 and x<=400:\n",
    "        return 50+(x-200)*50/200\n",
    "    elif x>400 and x<=800:\n",
    "        return 100+(x-400)*100/400\n",
    "    elif x>800 and x<=1200:\n",
    "        return 200+(x-800)*100/400\n",
    "    elif x>1200 and x<=1800:\n",
    "        return 300+(x-1200)*100/600\n",
    "    elif x>1800:\n",
    "        return 400+(x-1800)*100/600\n",
    "    else:\n",
    "        return 0\n",
    "data['NH3_subindex']=data['NH3'].astype(int).apply(lambda x:get_NH3_subindex(x))"
   ]
  },
  {
   "cell_type": "code",
   "execution_count": 28,
   "id": "a4a8f897",
   "metadata": {},
   "outputs": [],
   "source": [
    "def get_CO_subindex(x):\n",
    "    if x<=1:\n",
    "        return x*50/1\n",
    "    elif x>1 and x<=2:\n",
    "        return 50+(x-1)*50/1\n",
    "    elif x>2 and x<=10:\n",
    "        return 100+(x-2)*100/8\n",
    "    elif x>10 and x<=17:\n",
    "        return 200+(x-10)*100/7\n",
    "    elif x>17 and x<=34:\n",
    "        return 300+(x-17)*100/17\n",
    "    elif x>34:\n",
    "        return 400+(x-34)*100/17\n",
    "    else:\n",
    "        return 0\n",
    "data['CO_subindex']=data['CO'].astype(int).apply(lambda x:get_CO_subindex(x))"
   ]
  },
  {
   "cell_type": "code",
   "execution_count": 29,
   "id": "d594137b",
   "metadata": {},
   "outputs": [],
   "source": [
    "def get_O3_subindex(x):\n",
    "    if x<=50:\n",
    "        return x*50/50\n",
    "    elif x>50 and x<=100:\n",
    "        return 50+(x-50)*50/50\n",
    "    elif x>100 and x<=168:\n",
    "        return 100+(x-100)*100/68\n",
    "    elif x>168 and x<=208:\n",
    "        return 200+(x-168)*100/40\n",
    "    elif x>208 and x<=748:\n",
    "        return 300+(x-208)*100/539\n",
    "    elif x>748:\n",
    "        return 400+(x-400)*100/539\n",
    "    else:\n",
    "        return 0\n",
    "data['O3_subindex']=data['O3'].astype(int).apply(lambda x:get_O3_subindex(x))"
   ]
  },
  {
   "cell_type": "code",
   "execution_count": 30,
   "id": "edd6defc",
   "metadata": {},
   "outputs": [],
   "source": [
    "data['AQI']=data['AQI'].fillna(round(data[['PM2.5_subindex','PM10_subindex','SO2_subindex','NOx_subindex','NH3_subindex','CO_subindex','O3_subindex']].max(axis=1)))"
   ]
  },
  {
   "cell_type": "code",
   "execution_count": 31,
   "id": "92701c67",
   "metadata": {},
   "outputs": [
    {
     "data": {
      "text/html": [
       "<div>\n",
       "<style scoped>\n",
       "    .dataframe tbody tr th:only-of-type {\n",
       "        vertical-align: middle;\n",
       "    }\n",
       "\n",
       "    .dataframe tbody tr th {\n",
       "        vertical-align: top;\n",
       "    }\n",
       "\n",
       "    .dataframe thead th {\n",
       "        text-align: right;\n",
       "    }\n",
       "</style>\n",
       "<table border=\"1\" class=\"dataframe\">\n",
       "  <thead>\n",
       "    <tr style=\"text-align: right;\">\n",
       "      <th></th>\n",
       "      <th>State</th>\n",
       "      <th>City</th>\n",
       "      <th>PM2.5</th>\n",
       "      <th>PM10</th>\n",
       "      <th>NO</th>\n",
       "      <th>NO2</th>\n",
       "      <th>NOx</th>\n",
       "      <th>NH3</th>\n",
       "      <th>CO</th>\n",
       "      <th>SO2</th>\n",
       "      <th>...</th>\n",
       "      <th>year</th>\n",
       "      <th>month</th>\n",
       "      <th>day</th>\n",
       "      <th>PM10_subindex</th>\n",
       "      <th>PM2.5_subindex</th>\n",
       "      <th>SO2_subindex</th>\n",
       "      <th>NOx_subindex</th>\n",
       "      <th>NH3_subindex</th>\n",
       "      <th>CO_subindex</th>\n",
       "      <th>O3_subindex</th>\n",
       "    </tr>\n",
       "  </thead>\n",
       "  <tbody>\n",
       "    <tr>\n",
       "      <th>0</th>\n",
       "      <td>Gujarat</td>\n",
       "      <td>Ahmedabad</td>\n",
       "      <td>67.854497</td>\n",
       "      <td>114.584029</td>\n",
       "      <td>0.92</td>\n",
       "      <td>18.22</td>\n",
       "      <td>17.15</td>\n",
       "      <td>23.024137</td>\n",
       "      <td>0.92</td>\n",
       "      <td>27.64</td>\n",
       "      <td>...</td>\n",
       "      <td>2015</td>\n",
       "      <td>1</td>\n",
       "      <td>1</td>\n",
       "      <td>109.333333</td>\n",
       "      <td>123.333333</td>\n",
       "      <td>33.75</td>\n",
       "      <td>21.25</td>\n",
       "      <td>5.75</td>\n",
       "      <td>0.000000</td>\n",
       "      <td>148.529412</td>\n",
       "    </tr>\n",
       "    <tr>\n",
       "      <th>1</th>\n",
       "      <td>Gujarat</td>\n",
       "      <td>Ahmedabad</td>\n",
       "      <td>67.854497</td>\n",
       "      <td>114.584029</td>\n",
       "      <td>0.97</td>\n",
       "      <td>15.69</td>\n",
       "      <td>16.46</td>\n",
       "      <td>23.024137</td>\n",
       "      <td>0.97</td>\n",
       "      <td>24.55</td>\n",
       "      <td>...</td>\n",
       "      <td>2015</td>\n",
       "      <td>2</td>\n",
       "      <td>1</td>\n",
       "      <td>109.333333</td>\n",
       "      <td>123.333333</td>\n",
       "      <td>30.00</td>\n",
       "      <td>20.00</td>\n",
       "      <td>5.75</td>\n",
       "      <td>0.000000</td>\n",
       "      <td>34.000000</td>\n",
       "    </tr>\n",
       "    <tr>\n",
       "      <th>2</th>\n",
       "      <td>Gujarat</td>\n",
       "      <td>Ahmedabad</td>\n",
       "      <td>67.854497</td>\n",
       "      <td>114.584029</td>\n",
       "      <td>17.40</td>\n",
       "      <td>19.30</td>\n",
       "      <td>29.70</td>\n",
       "      <td>23.024137</td>\n",
       "      <td>17.40</td>\n",
       "      <td>29.07</td>\n",
       "      <td>...</td>\n",
       "      <td>2015</td>\n",
       "      <td>3</td>\n",
       "      <td>1</td>\n",
       "      <td>109.333333</td>\n",
       "      <td>123.333333</td>\n",
       "      <td>36.25</td>\n",
       "      <td>36.25</td>\n",
       "      <td>5.75</td>\n",
       "      <td>300.000000</td>\n",
       "      <td>30.000000</td>\n",
       "    </tr>\n",
       "    <tr>\n",
       "      <th>3</th>\n",
       "      <td>Gujarat</td>\n",
       "      <td>Ahmedabad</td>\n",
       "      <td>67.854497</td>\n",
       "      <td>114.584029</td>\n",
       "      <td>1.70</td>\n",
       "      <td>18.48</td>\n",
       "      <td>17.97</td>\n",
       "      <td>23.024137</td>\n",
       "      <td>1.70</td>\n",
       "      <td>18.59</td>\n",
       "      <td>...</td>\n",
       "      <td>2015</td>\n",
       "      <td>4</td>\n",
       "      <td>1</td>\n",
       "      <td>109.333333</td>\n",
       "      <td>123.333333</td>\n",
       "      <td>22.50</td>\n",
       "      <td>21.25</td>\n",
       "      <td>5.75</td>\n",
       "      <td>50.000000</td>\n",
       "      <td>36.000000</td>\n",
       "    </tr>\n",
       "    <tr>\n",
       "      <th>4</th>\n",
       "      <td>Gujarat</td>\n",
       "      <td>Ahmedabad</td>\n",
       "      <td>67.854497</td>\n",
       "      <td>114.584029</td>\n",
       "      <td>22.10</td>\n",
       "      <td>21.42</td>\n",
       "      <td>37.76</td>\n",
       "      <td>23.024137</td>\n",
       "      <td>22.10</td>\n",
       "      <td>39.33</td>\n",
       "      <td>...</td>\n",
       "      <td>2015</td>\n",
       "      <td>5</td>\n",
       "      <td>1</td>\n",
       "      <td>109.333333</td>\n",
       "      <td>123.333333</td>\n",
       "      <td>48.75</td>\n",
       "      <td>46.25</td>\n",
       "      <td>5.75</td>\n",
       "      <td>329.411765</td>\n",
       "      <td>39.000000</td>\n",
       "    </tr>\n",
       "  </tbody>\n",
       "</table>\n",
       "<p>5 rows × 26 columns</p>\n",
       "</div>"
      ],
      "text/plain": [
       "     State       City      PM2.5        PM10     NO    NO2    NOx        NH3  \\\n",
       "0  Gujarat  Ahmedabad  67.854497  114.584029   0.92  18.22  17.15  23.024137   \n",
       "1  Gujarat  Ahmedabad  67.854497  114.584029   0.97  15.69  16.46  23.024137   \n",
       "2  Gujarat  Ahmedabad  67.854497  114.584029  17.40  19.30  29.70  23.024137   \n",
       "3  Gujarat  Ahmedabad  67.854497  114.584029   1.70  18.48  17.97  23.024137   \n",
       "4  Gujarat  Ahmedabad  67.854497  114.584029  22.10  21.42  37.76  23.024137   \n",
       "\n",
       "      CO    SO2  ...  year  month  day  PM10_subindex  PM2.5_subindex  \\\n",
       "0   0.92  27.64  ...  2015      1    1     109.333333      123.333333   \n",
       "1   0.97  24.55  ...  2015      2    1     109.333333      123.333333   \n",
       "2  17.40  29.07  ...  2015      3    1     109.333333      123.333333   \n",
       "3   1.70  18.59  ...  2015      4    1     109.333333      123.333333   \n",
       "4  22.10  39.33  ...  2015      5    1     109.333333      123.333333   \n",
       "\n",
       "  SO2_subindex  NOx_subindex  NH3_subindex  CO_subindex  O3_subindex  \n",
       "0        33.75         21.25          5.75     0.000000   148.529412  \n",
       "1        30.00         20.00          5.75     0.000000    34.000000  \n",
       "2        36.25         36.25          5.75   300.000000    30.000000  \n",
       "3        22.50         21.25          5.75    50.000000    36.000000  \n",
       "4        48.75         46.25          5.75   329.411765    39.000000  \n",
       "\n",
       "[5 rows x 26 columns]"
      ]
     },
     "execution_count": 31,
     "metadata": {},
     "output_type": "execute_result"
    }
   ],
   "source": [
    "data.head()"
   ]
  },
  {
   "cell_type": "code",
   "execution_count": 32,
   "id": "18c90655",
   "metadata": {},
   "outputs": [
    {
     "data": {
      "text/plain": [
       "<AxesSubplot:>"
      ]
     },
     "execution_count": 32,
     "metadata": {},
     "output_type": "execute_result"
    },
    {
     "data": {
      "image/png": "[encoded data removed]",
      "text/plain": [
       "<Figure size 432x288 with 1 Axes>"
      ]
     },
     "metadata": {
      "needs_background": "light"
     },
     "output_type": "display_data"
    }
   ],
   "source": [
    "sns.heatmap(data.isnull(),yticklabels=False,cbar=False,cmap='viridis')"
   ]
  },
  {
   "cell_type": "code",
   "execution_count": 34,
   "id": "21f5d2d9",
   "metadata": {},
   "outputs": [],
   "source": [
    "## AQI bucketing\n",
    "def get_AQI_bucket(x):\n",
    "    if x <= 50:\n",
    "        return \"Good\"\n",
    "    elif x > 50 and x <= 100:\n",
    "        return \"Satisfactory\"\n",
    "    elif x > 100 and x <= 200:\n",
    "        return \"Moderate\"\n",
    "    elif x > 200 and x <= 300:\n",
    "        return \"Poor\"\n",
    "    elif x > 300 and x <= 400:\n",
    "        return \"Very Poor\"\n",
    "    elif x > 400:\n",
    "        return \"Severe\"\n",
    "    else:\n",
    "        return '0'\n",
    "    \n",
    "data[\"AQI_Bucket\"] = data[\"AQI_Bucket\"].fillna(data[\"AQI\"].apply(lambda x: get_AQI_bucket(x)))"
   ]
  },
  {
   "cell_type": "code",
   "execution_count": 35,
   "id": "4d0ed5fe",
   "metadata": {},
   "outputs": [
    {
     "data": {
      "text/html": [
       "<div>\n",
       "<style scoped>\n",
       "    .dataframe tbody tr th:only-of-type {\n",
       "        vertical-align: middle;\n",
       "    }\n",
       "\n",
       "    .dataframe tbody tr th {\n",
       "        vertical-align: top;\n",
       "    }\n",
       "\n",
       "    .dataframe thead th {\n",
       "        text-align: right;\n",
       "    }\n",
       "</style>\n",
       "<table border=\"1\" class=\"dataframe\">\n",
       "  <thead>\n",
       "    <tr style=\"text-align: right;\">\n",
       "      <th></th>\n",
       "      <th>State</th>\n",
       "      <th>City</th>\n",
       "      <th>PM2.5</th>\n",
       "      <th>PM10</th>\n",
       "      <th>NO</th>\n",
       "      <th>NO2</th>\n",
       "      <th>NOx</th>\n",
       "      <th>NH3</th>\n",
       "      <th>CO</th>\n",
       "      <th>SO2</th>\n",
       "      <th>...</th>\n",
       "      <th>year</th>\n",
       "      <th>month</th>\n",
       "      <th>day</th>\n",
       "      <th>PM10_subindex</th>\n",
       "      <th>PM2.5_subindex</th>\n",
       "      <th>SO2_subindex</th>\n",
       "      <th>NOx_subindex</th>\n",
       "      <th>NH3_subindex</th>\n",
       "      <th>CO_subindex</th>\n",
       "      <th>O3_subindex</th>\n",
       "    </tr>\n",
       "  </thead>\n",
       "  <tbody>\n",
       "    <tr>\n",
       "      <th>0</th>\n",
       "      <td>Gujarat</td>\n",
       "      <td>Ahmedabad</td>\n",
       "      <td>67.854497</td>\n",
       "      <td>114.584029</td>\n",
       "      <td>0.92</td>\n",
       "      <td>18.22</td>\n",
       "      <td>17.15</td>\n",
       "      <td>23.024137</td>\n",
       "      <td>0.92</td>\n",
       "      <td>27.64</td>\n",
       "      <td>...</td>\n",
       "      <td>2015</td>\n",
       "      <td>1</td>\n",
       "      <td>1</td>\n",
       "      <td>109.333333</td>\n",
       "      <td>123.333333</td>\n",
       "      <td>33.75</td>\n",
       "      <td>21.25</td>\n",
       "      <td>5.75</td>\n",
       "      <td>0.000000</td>\n",
       "      <td>148.529412</td>\n",
       "    </tr>\n",
       "    <tr>\n",
       "      <th>1</th>\n",
       "      <td>Gujarat</td>\n",
       "      <td>Ahmedabad</td>\n",
       "      <td>67.854497</td>\n",
       "      <td>114.584029</td>\n",
       "      <td>0.97</td>\n",
       "      <td>15.69</td>\n",
       "      <td>16.46</td>\n",
       "      <td>23.024137</td>\n",
       "      <td>0.97</td>\n",
       "      <td>24.55</td>\n",
       "      <td>...</td>\n",
       "      <td>2015</td>\n",
       "      <td>2</td>\n",
       "      <td>1</td>\n",
       "      <td>109.333333</td>\n",
       "      <td>123.333333</td>\n",
       "      <td>30.00</td>\n",
       "      <td>20.00</td>\n",
       "      <td>5.75</td>\n",
       "      <td>0.000000</td>\n",
       "      <td>34.000000</td>\n",
       "    </tr>\n",
       "    <tr>\n",
       "      <th>2</th>\n",
       "      <td>Gujarat</td>\n",
       "      <td>Ahmedabad</td>\n",
       "      <td>67.854497</td>\n",
       "      <td>114.584029</td>\n",
       "      <td>17.40</td>\n",
       "      <td>19.30</td>\n",
       "      <td>29.70</td>\n",
       "      <td>23.024137</td>\n",
       "      <td>17.40</td>\n",
       "      <td>29.07</td>\n",
       "      <td>...</td>\n",
       "      <td>2015</td>\n",
       "      <td>3</td>\n",
       "      <td>1</td>\n",
       "      <td>109.333333</td>\n",
       "      <td>123.333333</td>\n",
       "      <td>36.25</td>\n",
       "      <td>36.25</td>\n",
       "      <td>5.75</td>\n",
       "      <td>300.000000</td>\n",
       "      <td>30.000000</td>\n",
       "    </tr>\n",
       "    <tr>\n",
       "      <th>3</th>\n",
       "      <td>Gujarat</td>\n",
       "      <td>Ahmedabad</td>\n",
       "      <td>67.854497</td>\n",
       "      <td>114.584029</td>\n",
       "      <td>1.70</td>\n",
       "      <td>18.48</td>\n",
       "      <td>17.97</td>\n",
       "      <td>23.024137</td>\n",
       "      <td>1.70</td>\n",
       "      <td>18.59</td>\n",
       "      <td>...</td>\n",
       "      <td>2015</td>\n",
       "      <td>4</td>\n",
       "      <td>1</td>\n",
       "      <td>109.333333</td>\n",
       "      <td>123.333333</td>\n",
       "      <td>22.50</td>\n",
       "      <td>21.25</td>\n",
       "      <td>5.75</td>\n",
       "      <td>50.000000</td>\n",
       "      <td>36.000000</td>\n",
       "    </tr>\n",
       "    <tr>\n",
       "      <th>4</th>\n",
       "      <td>Gujarat</td>\n",
       "      <td>Ahmedabad</td>\n",
       "      <td>67.854497</td>\n",
       "      <td>114.584029</td>\n",
       "      <td>22.10</td>\n",
       "      <td>21.42</td>\n",
       "      <td>37.76</td>\n",
       "      <td>23.024137</td>\n",
       "      <td>22.10</td>\n",
       "      <td>39.33</td>\n",
       "      <td>...</td>\n",
       "      <td>2015</td>\n",
       "      <td>5</td>\n",
       "      <td>1</td>\n",
       "      <td>109.333333</td>\n",
       "      <td>123.333333</td>\n",
       "      <td>48.75</td>\n",
       "      <td>46.25</td>\n",
       "      <td>5.75</td>\n",
       "      <td>329.411765</td>\n",
       "      <td>39.000000</td>\n",
       "    </tr>\n",
       "  </tbody>\n",
       "</table>\n",
       "<p>5 rows × 26 columns</p>\n",
       "</div>"
      ],
      "text/plain": [
       "     State       City      PM2.5        PM10     NO    NO2    NOx        NH3  \\\n",
       "0  Gujarat  Ahmedabad  67.854497  114.584029   0.92  18.22  17.15  23.024137   \n",
       "1  Gujarat  Ahmedabad  67.854497  114.584029   0.97  15.69  16.46  23.024137   \n",
       "2  Gujarat  Ahmedabad  67.854497  114.584029  17.40  19.30  29.70  23.024137   \n",
       "3  Gujarat  Ahmedabad  67.854497  114.584029   1.70  18.48  17.97  23.024137   \n",
       "4  Gujarat  Ahmedabad  67.854497  114.584029  22.10  21.42  37.76  23.024137   \n",
       "\n",
       "      CO    SO2  ...  year  month  day  PM10_subindex  PM2.5_subindex  \\\n",
       "0   0.92  27.64  ...  2015      1    1     109.333333      123.333333   \n",
       "1   0.97  24.55  ...  2015      2    1     109.333333      123.333333   \n",
       "2  17.40  29.07  ...  2015      3    1     109.333333      123.333333   \n",
       "3   1.70  18.59  ...  2015      4    1     109.333333      123.333333   \n",
       "4  22.10  39.33  ...  2015      5    1     109.333333      123.333333   \n",
       "\n",
       "  SO2_subindex  NOx_subindex  NH3_subindex  CO_subindex  O3_subindex  \n",
       "0        33.75         21.25          5.75     0.000000   148.529412  \n",
       "1        30.00         20.00          5.75     0.000000    34.000000  \n",
       "2        36.25         36.25          5.75   300.000000    30.000000  \n",
       "3        22.50         21.25          5.75    50.000000    36.000000  \n",
       "4        48.75         46.25          5.75   329.411765    39.000000  \n",
       "\n",
       "[5 rows x 26 columns]"
      ]
     },
     "execution_count": 35,
     "metadata": {},
     "output_type": "execute_result"
    }
   ],
   "source": [
    "data.head()"
   ]
  },
  {
   "cell_type": "code",
   "execution_count": 36,
   "id": "819af042",
   "metadata": {},
   "outputs": [
    {
     "data": {
      "text/plain": [
       "<AxesSubplot:>"
      ]
     },
     "execution_count": 36,
     "metadata": {},
     "output_type": "execute_result"
    },
    {
     "data": {
      "image/png": "[encoded data removed]",
      "text/plain": [
       "<Figure size 432x288 with 1 Axes>"
      ]
     },
     "metadata": {
      "needs_background": "light"
     },
     "output_type": "display_data"
    }
   ],
   "source": [
    "sns.heatmap(data.isnull(),yticklabels=False,cbar=False,cmap='viridis')"
   ]
  },
  {
   "cell_type": "code",
   "execution_count": 37,
   "id": "159edfbb",
   "metadata": {
    "scrolled": true
   },
   "outputs": [
    {
     "data": {
      "image/png": "[encoded data removed]",
      "text/plain": [
       "<Figure size 1440x1080 with 1 Axes>"
      ]
     },
     "metadata": {
      "needs_background": "light"
     },
     "output_type": "display_data"
    }
   ],
   "source": [
    "#Finding outliers\n",
    "graph=data.select_dtypes(include=['float64','int64'])\n",
    "graph.boxplot(figsize=(20,15))\n",
    "plt.show()"
   ]
  },
  {
   "cell_type": "code",
   "execution_count": 38,
   "id": "32c94217",
   "metadata": {},
   "outputs": [
    {
     "name": "stdout",
     "output_type": "stream",
     "text": [
      "AQI               1289\n",
      "AQI_Bucket           0\n",
      "Benzene           1639\n",
      "CO                2922\n",
      "CO_subindex       2320\n",
      "City                 0\n",
      "NH3               2118\n",
      "NH3_subindex      1979\n",
      "NO                2021\n",
      "NO2               1260\n",
      "NOx               1855\n",
      "NOx_subindex      1820\n",
      "O3                1059\n",
      "O3_subindex        939\n",
      "PM10              1980\n",
      "PM10_subindex     1500\n",
      "PM2.5             2405\n",
      "PM2.5_subindex    2920\n",
      "SO2               3443\n",
      "SO2_subindex      3636\n",
      "State                0\n",
      "Toluene           3246\n",
      "Xylene            1951\n",
      "day                  0\n",
      "month                0\n",
      "year                 0\n",
      "dtype: int64\n"
     ]
    }
   ],
   "source": [
    "#Outliers count in each column\n",
    "#data=data.drop(['Date'],axis=1)\n",
    "Q1=data.quantile(.25)\n",
    "Q3=data.quantile(.75)\n",
    "IQR=Q3-Q1\n",
    "print(((data<(Q1-1.5*IQR))|(data>(Q3+1.5*IQR))).sum())"
   ]
  },
  {
   "cell_type": "code",
   "execution_count": 39,
   "id": "aec6cef2",
   "metadata": {},
   "outputs": [
    {
     "data": {
      "text/plain": [
       "Index(['State', 'City', 'PM2.5', 'PM10', 'NO', 'NO2', 'NOx', 'NH3', 'CO',\n",
       "       'SO2', 'O3', 'Benzene', 'Toluene', 'Xylene', 'AQI', 'AQI_Bucket',\n",
       "       'year', 'month', 'day', 'PM10_subindex', 'PM2.5_subindex',\n",
       "       'SO2_subindex', 'NOx_subindex', 'NH3_subindex', 'CO_subindex',\n",
       "       'O3_subindex'],\n",
       "      dtype='object')"
      ]
     },
     "execution_count": 39,
     "metadata": {},
     "output_type": "execute_result"
    }
   ],
   "source": [
    "data.columns"
   ]
  },
  {
   "cell_type": "code",
   "execution_count": 40,
   "id": "1f81c574",
   "metadata": {},
   "outputs": [],
   "source": [
    "for features in ['Benzene','CO','NH3','NO','NO2','PM2.5','PM10','NOx','O3','SO2','Toluene','Xylene','AQI','CO_subindex','NH3_subindex','NOx_subindex','O3_subindex','PM10_subindex','PM2.5_subindex','SO2_subindex']:\n",
    "         OF_Q1=data[features].quantile(0.25)\n",
    "         OF_Q2=data[features].quantile(0.50)\n",
    "         OF_Q3=data[features].quantile(0.75)\n",
    "         OF_IQR=OF_Q3-OF_Q1\n",
    "         OF_low_limit=OF_Q1-1.5*OF_IQR\n",
    "         OF_up_limit=OF_Q3+1.5*OF_IQR\n",
    "         OF_outlier=data[(data[features]<OF_low_limit)|(data[features]>OF_low_limit)]\n",
    "         data[features]=data[features].clip(OF_up_limit,OF_low_limit)"
   ]
  },
  {
   "cell_type": "code",
   "execution_count": 41,
   "id": "f722700d",
   "metadata": {},
   "outputs": [
    {
     "name": "stdout",
     "output_type": "stream",
     "text": [
      "AQI               0\n",
      "AQI_Bucket        0\n",
      "Benzene           0\n",
      "CO                0\n",
      "CO_subindex       0\n",
      "City              0\n",
      "NH3               0\n",
      "NH3_subindex      0\n",
      "NO                0\n",
      "NO2               0\n",
      "NOx               0\n",
      "NOx_subindex      0\n",
      "O3                0\n",
      "O3_subindex       0\n",
      "PM10              0\n",
      "PM10_subindex     0\n",
      "PM2.5             0\n",
      "PM2.5_subindex    0\n",
      "SO2               0\n",
      "SO2_subindex      0\n",
      "State             0\n",
      "Toluene           0\n",
      "Xylene            0\n",
      "day               0\n",
      "month             0\n",
      "year              0\n",
      "dtype: int64\n"
     ]
    }
   ],
   "source": [
    "Q1=data.quantile(.25)\n",
    "Q3=data.quantile(.75)\n",
    "IQR=Q3-Q1\n",
    "print(((data<(Q1-1.5*IQR))|(data>(Q3+1.5*IQR))).sum())"
   ]
  },
  {
   "cell_type": "code",
   "execution_count": 42,
   "id": "1aeb4ae5",
   "metadata": {},
   "outputs": [
    {
     "data": {
      "image/png": "[encoded data removed]",
      "text/plain": [
       "<Figure size 1440x1080 with 1 Axes>"
      ]
     },
     "metadata": {
      "needs_background": "light"
     },
     "output_type": "display_data"
    }
   ],
   "source": [
    "#Finding outliers\n",
    "graph=data.select_dtypes(include=['float64','int64'])\n",
    "graph.boxplot(figsize=(20,15))\n",
    "plt.show()"
   ]
  },
  {
   "cell_type": "code",
   "execution_count": 43,
   "id": "3900563d",
   "metadata": {},
   "outputs": [
    {
     "data": {
      "text/plain": [
       "Index(['State', 'City', 'PM2.5', 'PM10', 'NO', 'NO2', 'NOx', 'NH3', 'CO',\n",
       "       'SO2', 'O3', 'Benzene', 'Toluene', 'Xylene', 'AQI', 'AQI_Bucket',\n",
       "       'year', 'month', 'day', 'PM10_subindex', 'PM2.5_subindex',\n",
       "       'SO2_subindex', 'NOx_subindex', 'NH3_subindex', 'CO_subindex',\n",
       "       'O3_subindex'],\n",
       "      dtype='object')"
      ]
     },
     "execution_count": 43,
     "metadata": {},
     "output_type": "execute_result"
    }
   ],
   "source": [
    "data.columns"
   ]
  },
  {
   "cell_type": "code",
   "execution_count": 44,
   "id": "f6f75f72",
   "metadata": {},
   "outputs": [
    {
     "data": {
      "text/plain": [
       "array(['Gujarat', 'Mizoram', 'Andhra Pradesh', 'Punjab', 'Karnataka',\n",
       "       'Madhya Pradesh', 'Odisha', 'Chandigarh', 'Tamilnadu', 'Delhi',\n",
       "       'Kerala', 'Haryana', 'Assam', 'Telengana', 'Rajasthan',\n",
       "       'Jharkhand', 'kerala', 'West Bengal', 'Uttar Pradesh',\n",
       "       'Maharashtra', 'Bihar', 'Meghalaya'], dtype=object)"
      ]
     },
     "execution_count": 44,
     "metadata": {},
     "output_type": "execute_result"
    }
   ],
   "source": [
    "data['State'].unique()"
   ]
  },
  {
   "cell_type": "code",
   "execution_count": 45,
   "id": "5f782ee8",
   "metadata": {},
   "outputs": [
    {
     "data": {
      "text/plain": [
       "22"
      ]
     },
     "execution_count": 45,
     "metadata": {},
     "output_type": "execute_result"
    }
   ],
   "source": [
    "data['State'].nunique()"
   ]
  },
  {
   "cell_type": "code",
   "execution_count": 46,
   "id": "63db78ec",
   "metadata": {},
   "outputs": [
    {
     "data": {
      "text/plain": [
       "array(['Ahmedabad', 'Aizawl', 'Amaravati', 'Amritsar', 'Bengaluru',\n",
       "       'Bhopal', 'Brajrajnagar', 'Chandigarh', 'Chennai', 'Coimbatore',\n",
       "       'Delhi', 'Ernakulam', 'Gurugram', 'Guwahati', 'Hyderabad',\n",
       "       'Jaipur', 'Jorapokhar', 'Kochi', 'Kolkata', 'Lucknow', 'Mumbai',\n",
       "       'Patna', 'Shillong', 'Talcher', 'Thiruvananthapuram',\n",
       "       'Visakhapatnam'], dtype=object)"
      ]
     },
     "execution_count": 46,
     "metadata": {},
     "output_type": "execute_result"
    }
   ],
   "source": [
    "data['City'].unique()"
   ]
  },
  {
   "cell_type": "code",
   "execution_count": 47,
   "id": "0e714a09",
   "metadata": {},
   "outputs": [
    {
     "data": {
      "text/plain": [
       "26"
      ]
     },
     "execution_count": 47,
     "metadata": {},
     "output_type": "execute_result"
    }
   ],
   "source": [
    "data['City'].nunique()"
   ]
  },
  {
   "cell_type": "code",
   "execution_count": 48,
   "id": "ef733e3e",
   "metadata": {},
   "outputs": [
    {
     "data": {
      "text/plain": [
       "array([ 1,  2,  3,  4,  5,  6,  7,  8,  9, 10, 11, 12], dtype=int64)"
      ]
     },
     "execution_count": 48,
     "metadata": {},
     "output_type": "execute_result"
    }
   ],
   "source": [
    "data['month'].unique()"
   ]
  },
  {
   "cell_type": "code",
   "execution_count": 49,
   "id": "d4bb1e1f",
   "metadata": {},
   "outputs": [],
   "source": [
    "# Target encoding\n",
    "\n",
    "data['State']=data['State'].map({'Gujarat':0, 'Mizoram':1, 'Andhra Pradesh':2, 'Punjab':3, 'Karnataka':4,\n",
    "       'Madhya Pradesh':5, 'Odisha':6, 'Chandigarh':7, 'Tamilnadu':8, 'Delhi':9,\n",
    "       'Kerala':10, 'Haryana':11, 'Assam':12, 'Telengana':13, 'Rajasthan':14,\n",
    "       'Jharkhand':15, 'kerala':16, 'West Bengal':17, 'Uttar Pradesh':18,\n",
    "       'Maharashtra':19, 'Bihar':20, 'Meghalaya':21})\n",
    "\n",
    "data['City']=data['City'].map({'Ahmedabad':0, 'Aizawl':1, 'Amaravati':2, 'Amritsar':3, 'Bengaluru':4,\n",
    "       'Bhopal':5, 'Brajrajnagar':6, 'Chandigarh':7, 'Chennai':8, 'Coimbatore':9,\n",
    "       'Delhi':10, 'Ernakulam':11, 'Gurugram':12, 'Guwahati':13, 'Hyderabad':14,\n",
    "       'Jaipur':15, 'Jorapokhar':16, 'Kochi':17, 'Kolkata':18, 'Lucknow':19, 'Mumbai':20,\n",
    "       'Patna':21, 'Shillong':22, 'Talcher':23, 'Thiruvananthapuram':24,\n",
    "       'Visakhapatnam':25})\n",
    "\n"
   ]
  },
  {
   "cell_type": "code",
   "execution_count": 50,
   "id": "0e641ace",
   "metadata": {},
   "outputs": [
    {
     "data": {
      "text/html": [
       "<div>\n",
       "<style scoped>\n",
       "    .dataframe tbody tr th:only-of-type {\n",
       "        vertical-align: middle;\n",
       "    }\n",
       "\n",
       "    .dataframe tbody tr th {\n",
       "        vertical-align: top;\n",
       "    }\n",
       "\n",
       "    .dataframe thead th {\n",
       "        text-align: right;\n",
       "    }\n",
       "</style>\n",
       "<table border=\"1\" class=\"dataframe\">\n",
       "  <thead>\n",
       "    <tr style=\"text-align: right;\">\n",
       "      <th></th>\n",
       "      <th>State</th>\n",
       "      <th>City</th>\n",
       "      <th>PM2.5</th>\n",
       "      <th>PM10</th>\n",
       "      <th>NO</th>\n",
       "      <th>NO2</th>\n",
       "      <th>NOx</th>\n",
       "      <th>NH3</th>\n",
       "      <th>CO</th>\n",
       "      <th>SO2</th>\n",
       "      <th>...</th>\n",
       "      <th>year</th>\n",
       "      <th>month</th>\n",
       "      <th>day</th>\n",
       "      <th>PM10_subindex</th>\n",
       "      <th>PM2.5_subindex</th>\n",
       "      <th>SO2_subindex</th>\n",
       "      <th>NOx_subindex</th>\n",
       "      <th>NH3_subindex</th>\n",
       "      <th>CO_subindex</th>\n",
       "      <th>O3_subindex</th>\n",
       "    </tr>\n",
       "  </thead>\n",
       "  <tbody>\n",
       "    <tr>\n",
       "      <th>29526</th>\n",
       "      <td>2</td>\n",
       "      <td>25</td>\n",
       "      <td>15.02</td>\n",
       "      <td>50.94</td>\n",
       "      <td>7.68</td>\n",
       "      <td>25.06</td>\n",
       "      <td>19.54</td>\n",
       "      <td>12.47</td>\n",
       "      <td>0.47</td>\n",
       "      <td>8.55</td>\n",
       "      <td>...</td>\n",
       "      <td>2020</td>\n",
       "      <td>6</td>\n",
       "      <td>27</td>\n",
       "      <td>50.0</td>\n",
       "      <td>25.000000</td>\n",
       "      <td>10.00</td>\n",
       "      <td>23.75</td>\n",
       "      <td>3.00</td>\n",
       "      <td>0.0</td>\n",
       "      <td>23.0</td>\n",
       "    </tr>\n",
       "    <tr>\n",
       "      <th>29527</th>\n",
       "      <td>2</td>\n",
       "      <td>25</td>\n",
       "      <td>24.38</td>\n",
       "      <td>74.09</td>\n",
       "      <td>3.42</td>\n",
       "      <td>26.06</td>\n",
       "      <td>16.53</td>\n",
       "      <td>11.99</td>\n",
       "      <td>0.52</td>\n",
       "      <td>12.72</td>\n",
       "      <td>...</td>\n",
       "      <td>2020</td>\n",
       "      <td>6</td>\n",
       "      <td>28</td>\n",
       "      <td>74.0</td>\n",
       "      <td>40.000000</td>\n",
       "      <td>15.00</td>\n",
       "      <td>20.00</td>\n",
       "      <td>2.75</td>\n",
       "      <td>0.0</td>\n",
       "      <td>30.0</td>\n",
       "    </tr>\n",
       "    <tr>\n",
       "      <th>29528</th>\n",
       "      <td>2</td>\n",
       "      <td>25</td>\n",
       "      <td>22.91</td>\n",
       "      <td>65.73</td>\n",
       "      <td>3.45</td>\n",
       "      <td>29.53</td>\n",
       "      <td>18.33</td>\n",
       "      <td>10.71</td>\n",
       "      <td>0.48</td>\n",
       "      <td>8.42</td>\n",
       "      <td>...</td>\n",
       "      <td>2020</td>\n",
       "      <td>6</td>\n",
       "      <td>29</td>\n",
       "      <td>65.0</td>\n",
       "      <td>36.666667</td>\n",
       "      <td>10.00</td>\n",
       "      <td>22.50</td>\n",
       "      <td>2.50</td>\n",
       "      <td>0.0</td>\n",
       "      <td>30.0</td>\n",
       "    </tr>\n",
       "    <tr>\n",
       "      <th>29529</th>\n",
       "      <td>2</td>\n",
       "      <td>25</td>\n",
       "      <td>16.64</td>\n",
       "      <td>49.97</td>\n",
       "      <td>4.05</td>\n",
       "      <td>29.26</td>\n",
       "      <td>18.80</td>\n",
       "      <td>10.03</td>\n",
       "      <td>0.52</td>\n",
       "      <td>9.84</td>\n",
       "      <td>...</td>\n",
       "      <td>2020</td>\n",
       "      <td>6</td>\n",
       "      <td>30</td>\n",
       "      <td>49.0</td>\n",
       "      <td>26.666667</td>\n",
       "      <td>11.25</td>\n",
       "      <td>22.50</td>\n",
       "      <td>2.50</td>\n",
       "      <td>0.0</td>\n",
       "      <td>28.0</td>\n",
       "    </tr>\n",
       "    <tr>\n",
       "      <th>29530</th>\n",
       "      <td>2</td>\n",
       "      <td>25</td>\n",
       "      <td>15.00</td>\n",
       "      <td>66.00</td>\n",
       "      <td>0.40</td>\n",
       "      <td>26.85</td>\n",
       "      <td>14.05</td>\n",
       "      <td>5.20</td>\n",
       "      <td>0.59</td>\n",
       "      <td>2.10</td>\n",
       "      <td>...</td>\n",
       "      <td>2020</td>\n",
       "      <td>1</td>\n",
       "      <td>7</td>\n",
       "      <td>66.0</td>\n",
       "      <td>25.000000</td>\n",
       "      <td>2.50</td>\n",
       "      <td>17.50</td>\n",
       "      <td>1.25</td>\n",
       "      <td>0.0</td>\n",
       "      <td>17.0</td>\n",
       "    </tr>\n",
       "  </tbody>\n",
       "</table>\n",
       "<p>5 rows × 26 columns</p>\n",
       "</div>"
      ],
      "text/plain": [
       "       State  City  PM2.5   PM10    NO    NO2    NOx    NH3    CO    SO2  ...  \\\n",
       "29526      2    25  15.02  50.94  7.68  25.06  19.54  12.47  0.47   8.55  ...   \n",
       "29527      2    25  24.38  74.09  3.42  26.06  16.53  11.99  0.52  12.72  ...   \n",
       "29528      2    25  22.91  65.73  3.45  29.53  18.33  10.71  0.48   8.42  ...   \n",
       "29529      2    25  16.64  49.97  4.05  29.26  18.80  10.03  0.52   9.84  ...   \n",
       "29530      2    25  15.00  66.00  0.40  26.85  14.05   5.20  0.59   2.10  ...   \n",
       "\n",
       "       year  month  day  PM10_subindex  PM2.5_subindex SO2_subindex  \\\n",
       "29526  2020      6   27           50.0       25.000000        10.00   \n",
       "29527  2020      6   28           74.0       40.000000        15.00   \n",
       "29528  2020      6   29           65.0       36.666667        10.00   \n",
       "29529  2020      6   30           49.0       26.666667        11.25   \n",
       "29530  2020      1    7           66.0       25.000000         2.50   \n",
       "\n",
       "       NOx_subindex  NH3_subindex  CO_subindex  O3_subindex  \n",
       "29526         23.75          3.00          0.0         23.0  \n",
       "29527         20.00          2.75          0.0         30.0  \n",
       "29528         22.50          2.50          0.0         30.0  \n",
       "29529         22.50          2.50          0.0         28.0  \n",
       "29530         17.50          1.25          0.0         17.0  \n",
       "\n",
       "[5 rows x 26 columns]"
      ]
     },
     "execution_count": 50,
     "metadata": {},
     "output_type": "execute_result"
    }
   ],
   "source": [
    "data.tail()"
   ]
  },
  {
   "cell_type": "raw",
   "id": "536f3ae6",
   "metadata": {},
   "source": [
    "data['month_sin'] = np.sin(data['month']*(2.*np.pi/12))\n",
    "data['month_cos'] = np.cos(data['month']*(2.*np.pi/12))"
   ]
  },
  {
   "cell_type": "code",
   "execution_count": 51,
   "id": "4d819bc7",
   "metadata": {},
   "outputs": [
    {
     "data": {
      "text/html": [
       "<div>\n",
       "<style scoped>\n",
       "    .dataframe tbody tr th:only-of-type {\n",
       "        vertical-align: middle;\n",
       "    }\n",
       "\n",
       "    .dataframe tbody tr th {\n",
       "        vertical-align: top;\n",
       "    }\n",
       "\n",
       "    .dataframe thead th {\n",
       "        text-align: right;\n",
       "    }\n",
       "</style>\n",
       "<table border=\"1\" class=\"dataframe\">\n",
       "  <thead>\n",
       "    <tr style=\"text-align: right;\">\n",
       "      <th></th>\n",
       "      <th>State</th>\n",
       "      <th>City</th>\n",
       "      <th>PM2.5</th>\n",
       "      <th>PM10</th>\n",
       "      <th>NO</th>\n",
       "      <th>NO2</th>\n",
       "      <th>NOx</th>\n",
       "      <th>NH3</th>\n",
       "      <th>CO</th>\n",
       "      <th>SO2</th>\n",
       "      <th>...</th>\n",
       "      <th>year</th>\n",
       "      <th>month</th>\n",
       "      <th>day</th>\n",
       "      <th>PM10_subindex</th>\n",
       "      <th>PM2.5_subindex</th>\n",
       "      <th>SO2_subindex</th>\n",
       "      <th>NOx_subindex</th>\n",
       "      <th>NH3_subindex</th>\n",
       "      <th>CO_subindex</th>\n",
       "      <th>O3_subindex</th>\n",
       "    </tr>\n",
       "  </thead>\n",
       "  <tbody>\n",
       "    <tr>\n",
       "      <th>0</th>\n",
       "      <td>0</td>\n",
       "      <td>0</td>\n",
       "      <td>67.854497</td>\n",
       "      <td>114.584029</td>\n",
       "      <td>0.92</td>\n",
       "      <td>18.22</td>\n",
       "      <td>17.15</td>\n",
       "      <td>23.024137</td>\n",
       "      <td>0.920</td>\n",
       "      <td>27.6400</td>\n",
       "      <td>...</td>\n",
       "      <td>2015</td>\n",
       "      <td>1</td>\n",
       "      <td>1</td>\n",
       "      <td>109.333333</td>\n",
       "      <td>123.333333</td>\n",
       "      <td>33.750</td>\n",
       "      <td>21.25</td>\n",
       "      <td>5.75</td>\n",
       "      <td>0.0</td>\n",
       "      <td>79.0</td>\n",
       "    </tr>\n",
       "    <tr>\n",
       "      <th>1</th>\n",
       "      <td>0</td>\n",
       "      <td>0</td>\n",
       "      <td>67.854497</td>\n",
       "      <td>114.584029</td>\n",
       "      <td>0.97</td>\n",
       "      <td>15.69</td>\n",
       "      <td>16.46</td>\n",
       "      <td>23.024137</td>\n",
       "      <td>0.970</td>\n",
       "      <td>24.5500</td>\n",
       "      <td>...</td>\n",
       "      <td>2015</td>\n",
       "      <td>2</td>\n",
       "      <td>1</td>\n",
       "      <td>109.333333</td>\n",
       "      <td>123.333333</td>\n",
       "      <td>30.000</td>\n",
       "      <td>20.00</td>\n",
       "      <td>5.75</td>\n",
       "      <td>0.0</td>\n",
       "      <td>34.0</td>\n",
       "    </tr>\n",
       "    <tr>\n",
       "      <th>2</th>\n",
       "      <td>0</td>\n",
       "      <td>0</td>\n",
       "      <td>67.854497</td>\n",
       "      <td>114.584029</td>\n",
       "      <td>17.40</td>\n",
       "      <td>19.30</td>\n",
       "      <td>29.70</td>\n",
       "      <td>23.024137</td>\n",
       "      <td>3.015</td>\n",
       "      <td>29.0700</td>\n",
       "      <td>...</td>\n",
       "      <td>2015</td>\n",
       "      <td>3</td>\n",
       "      <td>1</td>\n",
       "      <td>109.333333</td>\n",
       "      <td>123.333333</td>\n",
       "      <td>35.625</td>\n",
       "      <td>36.25</td>\n",
       "      <td>5.75</td>\n",
       "      <td>125.0</td>\n",
       "      <td>30.0</td>\n",
       "    </tr>\n",
       "    <tr>\n",
       "      <th>3</th>\n",
       "      <td>0</td>\n",
       "      <td>0</td>\n",
       "      <td>67.854497</td>\n",
       "      <td>114.584029</td>\n",
       "      <td>1.70</td>\n",
       "      <td>18.48</td>\n",
       "      <td>17.97</td>\n",
       "      <td>23.024137</td>\n",
       "      <td>1.700</td>\n",
       "      <td>18.5900</td>\n",
       "      <td>...</td>\n",
       "      <td>2015</td>\n",
       "      <td>4</td>\n",
       "      <td>1</td>\n",
       "      <td>109.333333</td>\n",
       "      <td>123.333333</td>\n",
       "      <td>22.500</td>\n",
       "      <td>21.25</td>\n",
       "      <td>5.75</td>\n",
       "      <td>50.0</td>\n",
       "      <td>36.0</td>\n",
       "    </tr>\n",
       "    <tr>\n",
       "      <th>4</th>\n",
       "      <td>0</td>\n",
       "      <td>0</td>\n",
       "      <td>67.854497</td>\n",
       "      <td>114.584029</td>\n",
       "      <td>22.10</td>\n",
       "      <td>21.42</td>\n",
       "      <td>37.76</td>\n",
       "      <td>23.024137</td>\n",
       "      <td>3.015</td>\n",
       "      <td>30.7575</td>\n",
       "      <td>...</td>\n",
       "      <td>2015</td>\n",
       "      <td>5</td>\n",
       "      <td>1</td>\n",
       "      <td>109.333333</td>\n",
       "      <td>123.333333</td>\n",
       "      <td>35.625</td>\n",
       "      <td>46.25</td>\n",
       "      <td>5.75</td>\n",
       "      <td>125.0</td>\n",
       "      <td>39.0</td>\n",
       "    </tr>\n",
       "  </tbody>\n",
       "</table>\n",
       "<p>5 rows × 26 columns</p>\n",
       "</div>"
      ],
      "text/plain": [
       "   State  City      PM2.5        PM10     NO    NO2    NOx        NH3     CO  \\\n",
       "0      0     0  67.854497  114.584029   0.92  18.22  17.15  23.024137  0.920   \n",
       "1      0     0  67.854497  114.584029   0.97  15.69  16.46  23.024137  0.970   \n",
       "2      0     0  67.854497  114.584029  17.40  19.30  29.70  23.024137  3.015   \n",
       "3      0     0  67.854497  114.584029   1.70  18.48  17.97  23.024137  1.700   \n",
       "4      0     0  67.854497  114.584029  22.10  21.42  37.76  23.024137  3.015   \n",
       "\n",
       "       SO2  ...  year  month  day  PM10_subindex  PM2.5_subindex SO2_subindex  \\\n",
       "0  27.6400  ...  2015      1    1     109.333333      123.333333       33.750   \n",
       "1  24.5500  ...  2015      2    1     109.333333      123.333333       30.000   \n",
       "2  29.0700  ...  2015      3    1     109.333333      123.333333       35.625   \n",
       "3  18.5900  ...  2015      4    1     109.333333      123.333333       22.500   \n",
       "4  30.7575  ...  2015      5    1     109.333333      123.333333       35.625   \n",
       "\n",
       "   NOx_subindex  NH3_subindex  CO_subindex  O3_subindex  \n",
       "0         21.25          5.75          0.0         79.0  \n",
       "1         20.00          5.75          0.0         34.0  \n",
       "2         36.25          5.75        125.0         30.0  \n",
       "3         21.25          5.75         50.0         36.0  \n",
       "4         46.25          5.75        125.0         39.0  \n",
       "\n",
       "[5 rows x 26 columns]"
      ]
     },
     "execution_count": 51,
     "metadata": {},
     "output_type": "execute_result"
    }
   ],
   "source": [
    "data.head()"
   ]
  },
  {
   "cell_type": "raw",
   "id": "13d6f939",
   "metadata": {},
   "source": [
    "prediction_decoded = label_encoder.inverse_transform(data['State'])\n",
    "print(prediction_decoded)"
   ]
  },
  {
   "cell_type": "code",
   "execution_count": 52,
   "id": "ebebc5a7",
   "metadata": {},
   "outputs": [
    {
     "data": {
      "text/plain": [
       "Moderate        10344\n",
       "Satisfactory     9800\n",
       "Very Poor        3338\n",
       "Poor             3121\n",
       "Good             1539\n",
       "Severe           1389\n",
       "Name: AQI_Bucket, dtype: int64"
      ]
     },
     "execution_count": 52,
     "metadata": {},
     "output_type": "execute_result"
    }
   ],
   "source": [
    "data['AQI_Bucket'].value_counts()"
   ]
  },
  {
   "cell_type": "code",
   "execution_count": 53,
   "id": "38aa5db4",
   "metadata": {},
   "outputs": [],
   "source": [
    "#Feature Engineering\n",
    "#data['BTX'] = data[\"Benzene\"]+data[\"Toluene\"]+data[\"Xylene\"]\n",
    "#data['PM'] =data[\"PM2.5\"]+data[\"PM10\"]\n",
    "y=data['AQI']\n",
    "X = data[['State','City','year', 'month',]]"
   ]
  },
  {
   "cell_type": "code",
   "execution_count": 54,
   "id": "a9eb984e",
   "metadata": {},
   "outputs": [],
   "source": [
    "#splitting of data"
   ]
  },
  {
   "cell_type": "code",
   "execution_count": 55,
   "id": "069376c9",
   "metadata": {},
   "outputs": [],
   "source": [
    "from sklearn.model_selection import train_test_split\n",
    "X_train,X_test,y_train,y_test=train_test_split(X,y,test_size=.2,random_state=42)"
   ]
  },
  {
   "cell_type": "code",
   "execution_count": 56,
   "id": "d9b53d3b",
   "metadata": {},
   "outputs": [
    {
     "name": "stdout",
     "output_type": "stream",
     "text": [
      "Requirement already satisfied: nestedhyperboost in c:\\users\\tejes\\anaconda3\\lib\\site-packages (0.0.3)\n",
      "Requirement already satisfied: catboost in c:\\users\\tejes\\anaconda3\\lib\\site-packages (from nestedhyperboost) (1.0.6)\n",
      "Requirement already satisfied: sklearn in c:\\users\\tejes\\anaconda3\\lib\\site-packages (from nestedhyperboost) (0.0)\n",
      "Requirement already satisfied: lightgbm in c:\\users\\tejes\\anaconda3\\lib\\site-packages (from nestedhyperboost) (3.3.2)\n",
      "Requirement already satisfied: xgboost in c:\\users\\tejes\\anaconda3\\lib\\site-packages (from nestedhyperboost) (1.6.1)\n",
      "Requirement already satisfied: pandas in c:\\users\\tejes\\anaconda3\\lib\\site-packages (from nestedhyperboost) (1.3.4)\n",
      "Requirement already satisfied: hyperopt in c:\\users\\tejes\\anaconda3\\lib\\site-packages (from nestedhyperboost) (0.2.7)\n",
      "Requirement already satisfied: numpy in c:\\users\\tejes\\anaconda3\\lib\\site-packages (from nestedhyperboost) (1.20.3)\n",
      "Requirement already satisfied: matplotlib in c:\\users\\tejes\\anaconda3\\lib\\site-packages (from nestedhyperboost) (3.4.3)\n",
      "Requirement already satisfied: graphviz in c:\\users\\tejes\\anaconda3\\lib\\site-packages (from catboost->nestedhyperboost) (0.20)\n",
      "Requirement already satisfied: plotly in c:\\users\\tejes\\anaconda3\\lib\\site-packages (from catboost->nestedhyperboost) (5.9.0)\n",
      "Requirement already satisfied: scipy in c:\\users\\tejes\\anaconda3\\lib\\site-packages (from catboost->nestedhyperboost) (1.7.1)\n",
      "Requirement already satisfied: six in c:\\users\\tejes\\anaconda3\\lib\\site-packages (from catboost->nestedhyperboost) (1.16.0)\n",
      "Requirement already satisfied: python-dateutil>=2.7.3 in c:\\users\\tejes\\anaconda3\\lib\\site-packages (from pandas->nestedhyperboost) (2.8.2)\n",
      "Requirement already satisfied: pytz>=2017.3 in c:\\users\\tejes\\anaconda3\\lib\\site-packages (from pandas->nestedhyperboost) (2021.3)\n",
      "Requirement already satisfied: py4j in c:\\users\\tejes\\anaconda3\\lib\\site-packages (from hyperopt->nestedhyperboost) (0.10.9.5)\n",
      "Requirement already satisfied: tqdm in c:\\users\\tejes\\anaconda3\\lib\\site-packages (from hyperopt->nestedhyperboost) (4.62.3)\n",
      "Requirement already satisfied: future in c:\\users\\tejes\\anaconda3\\lib\\site-packages (from hyperopt->nestedhyperboost) (0.18.2)\n",
      "Requirement already satisfied: cloudpickle in c:\\users\\tejes\\anaconda3\\lib\\site-packages (from hyperopt->nestedhyperboost) (2.0.0)\n",
      "Requirement already satisfied: networkx>=2.2 in c:\\users\\tejes\\anaconda3\\lib\\site-packages (from hyperopt->nestedhyperboost) (2.6.3)\n",
      "Requirement already satisfied: scikit-learn!=0.22.0 in c:\\users\\tejes\\anaconda3\\lib\\site-packages (from lightgbm->nestedhyperboost) (0.24.2)\n",
      "Requirement already satisfied: wheel in c:\\users\\tejes\\anaconda3\\lib\\site-packages (from lightgbm->nestedhyperboost) (0.37.0)\n",
      "Requirement already satisfied: joblib>=0.11 in c:\\users\\tejes\\anaconda3\\lib\\site-packages (from scikit-learn!=0.22.0->lightgbm->nestedhyperboost) (1.1.0)\n",
      "Requirement already satisfied: threadpoolctl>=2.0.0 in c:\\users\\tejes\\anaconda3\\lib\\site-packages (from scikit-learn!=0.22.0->lightgbm->nestedhyperboost) (2.2.0)\n",
      "Requirement already satisfied: cycler>=0.10 in c:\\users\\tejes\\anaconda3\\lib\\site-packages (from matplotlib->nestedhyperboost) (0.10.0)\n",
      "Requirement already satisfied: kiwisolver>=1.0.1 in c:\\users\\tejes\\anaconda3\\lib\\site-packages (from matplotlib->nestedhyperboost) (1.3.1)\n",
      "Requirement already satisfied: pillow>=6.2.0 in c:\\users\\tejes\\anaconda3\\lib\\site-packages (from matplotlib->nestedhyperboost) (8.4.0)\n",
      "Requirement already satisfied: pyparsing>=2.2.1 in c:\\users\\tejes\\anaconda3\\lib\\site-packages (from matplotlib->nestedhyperboost) (3.0.4)\n",
      "Requirement already satisfied: tenacity>=6.2.0 in c:\\users\\tejes\\anaconda3\\lib\\site-packages (from plotly->catboost->nestedhyperboost) (8.0.1)\n",
      "Requirement already satisfied: colorama in c:\\users\\tejes\\anaconda3\\lib\\site-packages (from tqdm->hyperopt->nestedhyperboost) (0.4.4)\n"
     ]
    }
   ],
   "source": [
    "!pip install nestedhyperboost"
   ]
  },
  {
   "cell_type": "code",
   "execution_count": 57,
   "id": "7d943f97",
   "metadata": {},
   "outputs": [],
   "source": [
    "from sklearn.model_selection import train_test_split\n",
    "from sklearn.metrics import mean_squared_error as mse\n",
    "from sklearn.metrics import r2_score as r2\n",
    "\n",
    "from sklearn.linear_model import Ridge, Lasso, LinearRegression\n",
    "from sklearn.neural_network import MLPRegressor\n",
    "from sklearn.ensemble import RandomForestRegressor\n",
    "from catboost import CatBoostRegressor\n",
    "from xgboost import XGBRegressor,XGBRFRegressor\n",
    "from lightgbm import LGBMRegressor"
   ]
  },
  {
   "cell_type": "code",
   "execution_count": 58,
   "id": "14a37a91",
   "metadata": {},
   "outputs": [
    {
     "name": "stdout",
     "output_type": "stream",
     "text": [
      "Linear Regression(Ridge) trained.\n",
      "          Neural Network trained.\n",
      "           Random Forest trained.\n",
      "                Catboost trained.\n",
      "       XGBoost Regressor trained.\n",
      "    XGBoost RF Regressor trained.\n",
      "Linear Regression(lasso) trained.\n",
      "       Linear Regression trained.\n",
      " Light Gradient Boosting trained.\n"
     ]
    }
   ],
   "source": [
    "models = {\n",
    "    'Linear Regression(Ridge)' : Ridge(),\n",
    "    '          Neural Network' : MLPRegressor(),\n",
    "    '           Random Forest' : RandomForestRegressor(),\n",
    "    '                Catboost' : CatBoostRegressor(verbose=0),\n",
    "    '       XGBoost Regressor' : XGBRegressor(),\n",
    "    '    XGBoost RF Regressor' : XGBRFRegressor(),\n",
    "    'Linear Regression(lasso)' : Lasso(),\n",
    "    '       Linear Regression' : LinearRegression(),\n",
    "    ' Light Gradient Boosting' : LGBMRegressor()\n",
    "}\n",
    "for name, model in models.items():\n",
    "    model.fit(X_train, y_train)\n",
    "    print(name + ' trained.')"
   ]
  },
  {
   "cell_type": "code",
   "execution_count": 59,
   "id": "97fc7b03",
   "metadata": {},
   "outputs": [],
   "source": [
    "def get_rmse(y_true,y_pred):\n",
    "    rmse = np.sqrt(np.mean((y_test-y_pred)**2))\n",
    "    return rmse\n",
    "\n",
    "def get_r2(y_true,y_pred):\n",
    "    r2 = 1 - (np.sum((y_test - y_pred)**2) / np.sum((y_test - y_test.mean())**2))\n",
    "    return r2"
   ]
  },
  {
   "cell_type": "code",
   "execution_count": 60,
   "id": "bdb4b55c",
   "metadata": {},
   "outputs": [
    {
     "name": "stdout",
     "output_type": "stream",
     "text": [
      "Linear Regression(Ridge) RMSE: 100.18\n",
      "          Neural Network RMSE: 91.42\n",
      "           Random Forest RMSE: 65.47\n",
      "                Catboost RMSE: 64.70\n",
      "       XGBoost Regressor RMSE: 64.84\n",
      "    XGBoost RF Regressor RMSE: 72.25\n",
      "Linear Regression(lasso) RMSE: 100.16\n",
      "       Linear Regression RMSE: 100.18\n",
      " Light Gradient Boosting RMSE: 64.86\n"
     ]
    }
   ],
   "source": [
    "for name, model in models.items():\n",
    "    y_pred = model.predict(X_test)\n",
    "    rmse = get_rmse(y_test, y_pred)\n",
    "    print(name + ' RMSE: {:.2f}'.format(rmse))"
   ]
  },
  {
   "cell_type": "code",
   "execution_count": 61,
   "id": "fbc035eb",
   "metadata": {
    "scrolled": false
   },
   "outputs": [
    {
     "name": "stdout",
     "output_type": "stream",
     "text": [
      "Linear Regression(Ridge) R^2: 0.06674\n",
      "          Neural Network R^2: 0.22281\n",
      "           Random Forest R^2: 0.60137\n",
      "                Catboost R^2: 0.61077\n",
      "       XGBoost Regressor R^2: 0.60907\n",
      "    XGBoost RF Regressor R^2: 0.51457\n",
      "Linear Regression(lasso) R^2: 0.06706\n",
      "       Linear Regression R^2: 0.06674\n",
      " Light Gradient Boosting R^2: 0.60879\n"
     ]
    }
   ],
   "source": [
    "for name, model in models.items():\n",
    "    y_pred = model.predict(X_test)\n",
    "    r2 = get_r2(y_test, y_pred)\n",
    "    print(name + ' R^2: {:.5f}'.format(r2))"
   ]
  },
  {
   "cell_type": "code",
   "execution_count": 63,
   "id": "1b46fae2",
   "metadata": {},
   "outputs": [
    {
     "data": {
      "text/html": [
       "<div>\n",
       "<style scoped>\n",
       "    .dataframe tbody tr th:only-of-type {\n",
       "        vertical-align: middle;\n",
       "    }\n",
       "\n",
       "    .dataframe tbody tr th {\n",
       "        vertical-align: top;\n",
       "    }\n",
       "\n",
       "    .dataframe thead th {\n",
       "        text-align: right;\n",
       "    }\n",
       "</style>\n",
       "<table border=\"1\" class=\"dataframe\">\n",
       "  <thead>\n",
       "    <tr style=\"text-align: right;\">\n",
       "      <th></th>\n",
       "      <th>State</th>\n",
       "      <th>City</th>\n",
       "      <th>year</th>\n",
       "      <th>month</th>\n",
       "    </tr>\n",
       "  </thead>\n",
       "  <tbody>\n",
       "    <tr>\n",
       "      <th>29526</th>\n",
       "      <td>2</td>\n",
       "      <td>25</td>\n",
       "      <td>2020</td>\n",
       "      <td>6</td>\n",
       "    </tr>\n",
       "    <tr>\n",
       "      <th>29527</th>\n",
       "      <td>2</td>\n",
       "      <td>25</td>\n",
       "      <td>2020</td>\n",
       "      <td>6</td>\n",
       "    </tr>\n",
       "    <tr>\n",
       "      <th>29528</th>\n",
       "      <td>2</td>\n",
       "      <td>25</td>\n",
       "      <td>2020</td>\n",
       "      <td>6</td>\n",
       "    </tr>\n",
       "    <tr>\n",
       "      <th>29529</th>\n",
       "      <td>2</td>\n",
       "      <td>25</td>\n",
       "      <td>2020</td>\n",
       "      <td>6</td>\n",
       "    </tr>\n",
       "    <tr>\n",
       "      <th>29530</th>\n",
       "      <td>2</td>\n",
       "      <td>25</td>\n",
       "      <td>2020</td>\n",
       "      <td>1</td>\n",
       "    </tr>\n",
       "  </tbody>\n",
       "</table>\n",
       "</div>"
      ],
      "text/plain": [
       "       State  City  year  month\n",
       "29526      2    25  2020      6\n",
       "29527      2    25  2020      6\n",
       "29528      2    25  2020      6\n",
       "29529      2    25  2020      6\n",
       "29530      2    25  2020      1"
      ]
     },
     "execution_count": 63,
     "metadata": {},
     "output_type": "execute_result"
    }
   ],
   "source": [
    "X.tail()"
   ]
  },
  {
   "cell_type": "code",
   "execution_count": 64,
   "id": "023e9883",
   "metadata": {},
   "outputs": [],
   "source": [
    "#LGBMRegressor"
   ]
  },
  {
   "cell_type": "code",
   "execution_count": 65,
   "id": "0a9f40be",
   "metadata": {},
   "outputs": [
    {
     "data": {
      "text/plain": [
       "64.86039802619511"
      ]
     },
     "execution_count": 65,
     "metadata": {},
     "output_type": "execute_result"
    }
   ],
   "source": [
    "lgbm = LGBMRegressor()\n",
    "model=lgbm.fit(X_train, y_train)\n",
    "lgbm_pred = model.predict(X_test)\n",
    "mse(y_test, lgbm_pred, squared=False)"
   ]
  },
  {
   "cell_type": "code",
   "execution_count": 66,
   "id": "0e770026",
   "metadata": {
    "scrolled": true
   },
   "outputs": [
    {
     "data": {
      "text/plain": [
       "0.608789764480526"
      ]
     },
     "execution_count": 66,
     "metadata": {},
     "output_type": "execute_result"
    }
   ],
   "source": [
    "from sklearn.metrics import r2_score\n",
    "r_square = r2_score(y_test, lgbm_pred)\n",
    "r_square"
   ]
  },
  {
   "cell_type": "code",
   "execution_count": 67,
   "id": "940da271",
   "metadata": {},
   "outputs": [
    {
     "data": {
      "text/html": [
       "<div>\n",
       "<style scoped>\n",
       "    .dataframe tbody tr th:only-of-type {\n",
       "        vertical-align: middle;\n",
       "    }\n",
       "\n",
       "    .dataframe tbody tr th {\n",
       "        vertical-align: top;\n",
       "    }\n",
       "\n",
       "    .dataframe thead th {\n",
       "        text-align: right;\n",
       "    }\n",
       "</style>\n",
       "<table border=\"1\" class=\"dataframe\">\n",
       "  <thead>\n",
       "    <tr style=\"text-align: right;\">\n",
       "      <th></th>\n",
       "      <th>Model</th>\n",
       "      <th>Score</th>\n",
       "    </tr>\n",
       "  </thead>\n",
       "  <tbody>\n",
       "    <tr>\n",
       "      <th>3</th>\n",
       "      <td>Catboost</td>\n",
       "      <td>0.92080</td>\n",
       "    </tr>\n",
       "    <tr>\n",
       "      <th>8</th>\n",
       "      <td>Light Gradient Boosting</td>\n",
       "      <td>0.91776</td>\n",
       "    </tr>\n",
       "    <tr>\n",
       "      <th>9</th>\n",
       "      <td>LGBMRegressor</td>\n",
       "      <td>0.91770</td>\n",
       "    </tr>\n",
       "    <tr>\n",
       "      <th>4</th>\n",
       "      <td>XGBoost Regressor</td>\n",
       "      <td>0.91505</td>\n",
       "    </tr>\n",
       "    <tr>\n",
       "      <th>2</th>\n",
       "      <td>Random Forest</td>\n",
       "      <td>0.91448</td>\n",
       "    </tr>\n",
       "    <tr>\n",
       "      <th>5</th>\n",
       "      <td>XGBoost RF Regressor</td>\n",
       "      <td>0.90051</td>\n",
       "    </tr>\n",
       "    <tr>\n",
       "      <th>1</th>\n",
       "      <td>Neural Network</td>\n",
       "      <td>0.89705</td>\n",
       "    </tr>\n",
       "    <tr>\n",
       "      <th>0</th>\n",
       "      <td>Linear Regression(Ridge)</td>\n",
       "      <td>0.81378</td>\n",
       "    </tr>\n",
       "    <tr>\n",
       "      <th>7</th>\n",
       "      <td>Linear Regression</td>\n",
       "      <td>0.81378</td>\n",
       "    </tr>\n",
       "    <tr>\n",
       "      <th>6</th>\n",
       "      <td>Linear Regression(lasso)</td>\n",
       "      <td>0.81371</td>\n",
       "    </tr>\n",
       "  </tbody>\n",
       "</table>\n",
       "</div>"
      ],
      "text/plain": [
       "                      Model    Score\n",
       "3                  Catboost  0.92080\n",
       "8   Light Gradient Boosting  0.91776\n",
       "9             LGBMRegressor  0.91770\n",
       "4         XGBoost Regressor  0.91505\n",
       "2             Random Forest  0.91448\n",
       "5      XGBoost RF Regressor  0.90051\n",
       "1            Neural Network  0.89705\n",
       "0  Linear Regression(Ridge)  0.81378\n",
       "7         Linear Regression  0.81378\n",
       "6  Linear Regression(lasso)  0.81371"
      ]
     },
     "execution_count": 67,
     "metadata": {},
     "output_type": "execute_result"
    }
   ],
   "source": [
    "results = pd.DataFrame({'Model': [ 'Linear Regression(Ridge)','Neural Network','Random Forest','Catboost','XGBoost Regressor',' XGBoost RF Regressor', \n",
    "                                   'Linear Regression(lasso)',' Linear Regression','Light Gradient Boosting','LGBMRegressor'], \n",
    "                        'Score': [0.81378,0.89705,0.91448,0.92080,0.91505,0.90051,0.81371,0.81378,0.91776,.9177]})\n",
    "\n",
    "                                  \n",
    "                        \n",
    "\n",
    "result_df = results.sort_values(by='Score', ascending=False)\n",
    "\n",
    "result_df"
   ]
  },
  {
   "cell_type": "code",
   "execution_count": 68,
   "id": "a9ca07a1",
   "metadata": {},
   "outputs": [
    {
     "name": "stderr",
     "output_type": "stream",
     "text": [
      "No handles with labels found to put in legend.\n"
     ]
    },
    {
     "data": {
      "image/png": "[encoded data removed]",
      "text/plain": [
       "<Figure size 432x288 with 1 Axes>"
      ]
     },
     "metadata": {
      "needs_background": "light"
     },
     "output_type": "display_data"
    }
   ],
   "source": [
    "plt.bar(result_df['Model'],result_df['Score'], color = 'maroon',width=.5)\n",
    "plt.title('relation of mode with score')\n",
    "plt.xlabel('Model')\n",
    "plt.xticks(rotation=45)\n",
    "plt.ylabel('Score')\n",
    "plt.ylim(.5,1)\n",
    "plt.legend()\n",
    "plt.show()"
   ]
  },
  {
   "cell_type": "code",
   "execution_count": 69,
   "id": "4da14b53",
   "metadata": {},
   "outputs": [],
   "source": [
    "#prediction"
   ]
  },
  {
   "cell_type": "code",
   "execution_count": 70,
   "id": "ac7f3e96",
   "metadata": {},
   "outputs": [],
   "source": [
    "x_predict = [0,0,2020,1]\n",
    "import numpy as np\n",
    "x_predict = np.array(x_predict).reshape(1,-1)"
   ]
  },
  {
   "cell_type": "code",
   "execution_count": 71,
   "id": "f3dd2336",
   "metadata": {},
   "outputs": [
    {
     "name": "stdout",
     "output_type": "stream",
     "text": [
      "Predicted value :  [311.44509441]\n"
     ]
    }
   ],
   "source": [
    "predicted_value = lgbm.predict(x_predict) \n",
    "print(\"Predicted value : \",predicted_value)"
   ]
  },
  {
   "cell_type": "code",
   "execution_count": 75,
   "id": "e1d06294",
   "metadata": {},
   "outputs": [],
   "source": [
    "x_predict = [0,25,2025,1]\n",
    "import numpy as np\n",
    "x_predict = np.array(x_predict).reshape(1,-1)"
   ]
  },
  {
   "cell_type": "code",
   "execution_count": 76,
   "id": "7eb4d97c",
   "metadata": {},
   "outputs": [
    {
     "name": "stdout",
     "output_type": "stream",
     "text": [
      "Predicted value :  [306.24498201]\n"
     ]
    }
   ],
   "source": [
    "predicted_value = lgbm.predict(x_predict) \n",
    "print(\"Predicted value : \",predicted_value)"
   ]
  },
  {
   "cell_type": "raw",
   "id": "67012ac4",
   "metadata": {},
   "source": [
    "rf= RandomForestRegressor()\n",
    "#distribution of prediction probabilities\n",
    "threshold=.22\n",
    "y_pred_prob=rf.predict_proba(X_test)[:,1]\n",
    "y_pred=(y_pred_prob>threshold).astype(int)\n",
    "f1_score(y_test,y_pred)"
   ]
  },
  {
   "cell_type": "raw",
   "id": "695eede7",
   "metadata": {},
   "source": [
    "rfr= RandomForestRegressor()\n",
    "rfr.fit(X_train,y_train)"
   ]
  },
  {
   "cell_type": "raw",
   "id": "74e985d9",
   "metadata": {},
   "source": [
    "rfr = RandomForestRegressor(max_depth=2, random_state=0)\n",
    "\n",
    "rfr.fit(X_train,y_train)"
   ]
  },
  {
   "cell_type": "raw",
   "id": "2d400ae4",
   "metadata": {},
   "source": [
    "y_pred=rfr.predict(X_test)\n",
    "f1_score(y_test,y_pred)"
   ]
  },
  {
   "cell_type": "code",
   "execution_count": 174,
   "id": "741ec9e8",
   "metadata": {},
   "outputs": [],
   "source": [
    "#hypertuning"
   ]
  },
  {
   "cell_type": "code",
   "execution_count": 67,
   "id": "e96568a7",
   "metadata": {},
   "outputs": [],
   "source": [
    "#Grid search CV"
   ]
  },
  {
   "cell_type": "markdown",
   "id": "a77a2396",
   "metadata": {},
   "source": [
    "from sklearn.model_selection import GridSearchCV\n",
    "parameters={'n_estimators':[100,300,500],'max_depth':[1,3,5]}\n",
    "rfr=RandomForestRegressor()\n",
    "clf=GridSearchCV(rfr,parameters)\n",
    "clf.fit(X_train,y_train)"
   ]
  },
  {
   "cell_type": "markdown",
   "id": "6885359a",
   "metadata": {},
   "source": [
    "clf.best_score_"
   ]
  },
  {
   "cell_type": "markdown",
   "id": "b7096a91",
   "metadata": {},
   "source": [
    "clf.best_params_"
   ]
  },
  {
   "cell_type": "markdown",
   "id": "6b536d6b",
   "metadata": {},
   "source": [
    "model=RandomForestRegressor(max_depth= 5, n_estimators= 500)\n",
    "model.fit(X_train, y_train)\n",
    "rf_pred = model.predict(X_test)\n",
    "mse(y_test, rf_pred, squared=False)"
   ]
  },
  {
   "cell_type": "markdown",
   "id": "a55e960c",
   "metadata": {},
   "source": [
    "from sklearn.metrics import r2_score\n",
    "r_square = r2_score(y_test, rf_pred)\n",
    "r_square"
   ]
  },
  {
   "cell_type": "code",
   "execution_count": null,
   "id": "259e3daf",
   "metadata": {},
   "outputs": [],
   "source": [
    "#Random searchCV"
   ]
  },
  {
   "cell_type": "markdown",
   "id": "0a381ba6",
   "metadata": {},
   "source": [
    "from sklearn.model_selection import RandomizedSearchCV\n",
    "param={'n_estimators':[100,300,500],'max_depth':[1,3,5]}\n",
    "rfr=RandomForestRegressor()\n",
    "rlf=RandomizedSearchCV(rfr,param,n_iter=5)\n",
    "rlf.fit(X_train,y_train)"
   ]
  },
  {
   "cell_type": "markdown",
   "id": "d0750fe4",
   "metadata": {},
   "source": [
    "rlf.best_score_"
   ]
  },
  {
   "cell_type": "markdown",
   "id": "9b130fca",
   "metadata": {},
   "source": [
    "rlf.best_params_"
   ]
  },
  {
   "cell_type": "markdown",
   "id": "751f84ac",
   "metadata": {},
   "source": [
    "rfr=RandomForestRegressor(n_estimators= 300, max_depth= 5)\n",
    "rlf=RandomizedSearchCV(rfr,param,n_iter=5)\n",
    "rlf.fit(X_train, y_train)\n",
    "rlf_pred = model.predict(X_test)\n",
    "mse(y_test, rlf_pred, squared=False)"
   ]
  },
  {
   "cell_type": "markdown",
   "id": "76529027",
   "metadata": {},
   "source": [
    "from sklearn.metrics import r2_score\n",
    "r_square = r2_score(y_test, rlf_pred)\n",
    "r_square"
   ]
  },
  {
   "cell_type": "code",
   "execution_count": null,
   "id": "bd73f83e",
   "metadata": {},
   "outputs": [],
   "source": [
    "#hyper tuning of Lgbm regressor"
   ]
  },
  {
   "cell_type": "markdown",
   "id": "4317996c",
   "metadata": {},
   "source": [
    "lgbm = LGBMRegressor()\n",
    "lgbm.get_params()"
   ]
  },
  {
   "cell_type": "markdown",
   "id": "5d7282fd",
   "metadata": {},
   "source": [
    "lgbm = LGBMRegressor(max_depth=-1, n_estimators= 100)\n",
    "lgbm.fit(X_train, y_train)\n",
    "lgbm_pred = lgbm.predict(X_test)\n",
    "mse(y_test, lgbm_pred, squared=False)"
   ]
  },
  {
   "cell_type": "markdown",
   "id": "21588ce0",
   "metadata": {},
   "source": [
    "from sklearn.metrics import r2_score\n",
    "r_square = r2_score(y_test, lgbm_pred)\n",
    "r_square"
   ]
  },
  {
   "cell_type": "code",
   "execution_count": null,
   "id": "737d8d88",
   "metadata": {},
   "outputs": [],
   "source": [
    "#Knn"
   ]
  },
  {
   "cell_type": "markdown",
   "id": "b22cdf8b",
   "metadata": {},
   "source": [
    "from sklearn.neighbors import KNeighborsRegressor\n",
    "Knn=KNeighborsRegressor()\n",
    "Knn.fit(X_train,y_train)\n",
    "predictions = Knn.predict(X_test)"
   ]
  },
  {
   "cell_type": "markdown",
   "id": "0f3391c4",
   "metadata": {},
   "source": [
    "mse(y_test, predictions, squared=False)"
   ]
  },
  {
   "cell_type": "markdown",
   "id": "9444d388",
   "metadata": {},
   "source": [
    "from sklearn.metrics import r2_score\n",
    "r_square = r2_score(y_test, predictions)\n",
    "r_square"
   ]
  },
  {
   "cell_type": "markdown",
   "id": "8863f21f",
   "metadata": {},
   "source": [
    "import catboost as cb\n",
    "model = cb.CatBoostRegressor(loss_function='RMSE')\n",
    "train_dataset = cb.Pool(X_train, y_train) \n",
    "test_dataset = cb.Pool(X_test, y_test)"
   ]
  },
  {
   "cell_type": "markdown",
   "id": "fa768160",
   "metadata": {},
   "source": [
    "grid = {'iterations': [100, 150, 200],\n",
    "        'learning_rate': [0.03, 0.1],\n",
    "        'depth': [2, 4, 6, 8],\n",
    "        'l2_leaf_reg': [0.2, 0.5, 1, 3]}\n",
    "\n",
    "model.grid_search(grid,train_dataset)\n",
    "pred1 = model.predict(X_test)\n",
    "\n"
   ]
  },
  {
   "cell_type": "markdown",
   "id": "0d1279d9",
   "metadata": {},
   "source": [
    "from sklearn.metrics import r2_score\n",
    "r_square = r2_score(y_test, pred1)\n",
    "r_square"
   ]
  },
  {
   "cell_type": "markdown",
   "id": "a426f312",
   "metadata": {},
   "source": [
    "mse(y_test, pred1, squared=False)"
   ]
  },
  {
   "cell_type": "code",
   "execution_count": 91,
   "id": "88492a84",
   "metadata": {},
   "outputs": [],
   "source": [
    "import pickle"
   ]
  },
  {
   "cell_type": "code",
   "execution_count": 99,
   "id": "38a5ea79",
   "metadata": {},
   "outputs": [],
   "source": [
    "pickle.dump(data,open(r\"C:/Users/Tejes/Downloads/Air_quality_pred/data.pkl\",'wb'))"
   ]
  },
  {
   "cell_type": "code",
   "execution_count": 93,
   "id": "8daa46f9",
   "metadata": {},
   "outputs": [],
   "source": [
    "pickle.dump(predicted_value,open('predicted_value.pkl','wb'))"
   ]
  },
  {
   "cell_type": "code",
   "execution_count": 98,
   "id": "12248437",
   "metadata": {},
   "outputs": [],
   "source": [
    "pickle.dump(model,open(r\"C:/Users/Tejes/Downloads/Air_quality_pred/model.pkl\",'wb'))"
   ]
  },
  {
   "cell_type": "code",
   "execution_count": 95,
   "id": "42664b70",
   "metadata": {},
   "outputs": [
    {
     "data": {
      "text/plain": [
       "array([ 0,  1,  2,  3,  4,  5,  6,  7,  8,  9, 10, 11, 12, 13, 14, 15, 16,\n",
       "       17, 18, 19, 20, 21, 22, 23, 24, 25], dtype=int64)"
      ]
     },
     "execution_count": 95,
     "metadata": {},
     "output_type": "execute_result"
    }
   ],
   "source": [
    "data['City'].unique()"
   ]
  },
  {
   "cell_type": "code",
   "execution_count": 96,
   "id": "7f22eac6",
   "metadata": {},
   "outputs": [
    {
     "name": "stdout",
     "output_type": "stream",
     "text": [
      "Predicted value :  [68.29774549]\n"
     ]
    }
   ],
   "source": [
    "x_predict = [4,4,2025,6]\n",
    "import numpy as np\n",
    "x_predict = np.array(x_predict).reshape(1,-1)\n",
    "predicted_value = model.predict(x_predict) \n",
    "print(\"Predicted value : \",predicted_value)\n"
   ]
  },
  {
   "cell_type": "code",
   "execution_count": null,
   "id": "31ecc02f",
   "metadata": {},
   "outputs": [],
   "source": []
  },
  {
   "cell_type": "code",
   "execution_count": null,
   "id": "b776c9f9",
   "metadata": {},
   "outputs": [],
   "source": []
  }
 ],
 "metadata": {
  "kernelspec": {
   "display_name": "Python 3 (ipykernel)",
   "language": "python",
   "name": "python3"
  },
  "language_info": {
   "codemirror_mode": {
    "name": "ipython",
    "version": 3
   },
   "file_extension": ".py",
   "mimetype": "text/x-python",
   "name": "python",
   "nbconvert_exporter": "python",
   "pygments_lexer": "ipython3",
   "version": "3.9.7"
  }
 },
 "nbformat": 4,
 "nbformat_minor": 5
}
